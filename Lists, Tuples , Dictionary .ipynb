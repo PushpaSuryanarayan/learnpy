{
 "cells": [
  {
   "cell_type": "code",
   "execution_count": 1,
   "id": "27e04ec5",
   "metadata": {},
   "outputs": [],
   "source": [
    "#Lists []"
   ]
  },
  {
   "cell_type": "code",
   "execution_count": 2,
   "id": "f10823ca",
   "metadata": {},
   "outputs": [],
   "source": [
    "#lists are ordered sequence of elements. They are mutable, we can use indexing and slicing"
   ]
  },
  {
   "cell_type": "code",
   "execution_count": 3,
   "id": "90c46b36",
   "metadata": {},
   "outputs": [],
   "source": [
    "my_list = [1,2,3]"
   ]
  },
  {
   "cell_type": "code",
   "execution_count": 4,
   "id": "7c382aca",
   "metadata": {},
   "outputs": [
    {
     "data": {
      "text/plain": [
       "[1, 2, 3]"
      ]
     },
     "execution_count": 4,
     "metadata": {},
     "output_type": "execute_result"
    }
   ],
   "source": [
    "my_list"
   ]
  },
  {
   "cell_type": "code",
   "execution_count": 5,
   "id": "fad3113b",
   "metadata": {},
   "outputs": [],
   "source": [
    "my_list = ['string', 1,33]"
   ]
  },
  {
   "cell_type": "code",
   "execution_count": 6,
   "id": "84a03534",
   "metadata": {},
   "outputs": [
    {
     "data": {
      "text/plain": [
       "['string', 1, 33]"
      ]
     },
     "execution_count": 6,
     "metadata": {},
     "output_type": "execute_result"
    }
   ],
   "source": [
    "my_list"
   ]
  },
  {
   "cell_type": "code",
   "execution_count": 7,
   "id": "8a708189",
   "metadata": {},
   "outputs": [
    {
     "data": {
      "text/plain": [
       "3"
      ]
     },
     "execution_count": 7,
     "metadata": {},
     "output_type": "execute_result"
    }
   ],
   "source": [
    "len(my_list)"
   ]
  },
  {
   "cell_type": "code",
   "execution_count": 8,
   "id": "6525c106",
   "metadata": {},
   "outputs": [
    {
     "data": {
      "text/plain": [
       "'string'"
      ]
     },
     "execution_count": 8,
     "metadata": {},
     "output_type": "execute_result"
    }
   ],
   "source": [
    "my_list[0]"
   ]
  },
  {
   "cell_type": "code",
   "execution_count": 9,
   "id": "6658cc82",
   "metadata": {},
   "outputs": [
    {
     "data": {
      "text/plain": [
       "[1, 33]"
      ]
     },
     "execution_count": 9,
     "metadata": {},
     "output_type": "execute_result"
    }
   ],
   "source": [
    "my_list[1:]"
   ]
  },
  {
   "cell_type": "code",
   "execution_count": 10,
   "id": "452813de",
   "metadata": {},
   "outputs": [],
   "source": [
    "# list concatenation "
   ]
  },
  {
   "cell_type": "code",
   "execution_count": 11,
   "id": "cf4f4b76",
   "metadata": {},
   "outputs": [],
   "source": [
    "another_list = [\"second\", \"third\"]"
   ]
  },
  {
   "cell_type": "code",
   "execution_count": 12,
   "id": "82495bca",
   "metadata": {},
   "outputs": [
    {
     "data": {
      "text/plain": [
       "['string', 1, 33, 'second', 'third']"
      ]
     },
     "execution_count": 12,
     "metadata": {},
     "output_type": "execute_result"
    }
   ],
   "source": [
    "my_list + another_list"
   ]
  },
  {
   "cell_type": "code",
   "execution_count": 13,
   "id": "b7ad2e76",
   "metadata": {},
   "outputs": [],
   "source": [
    "# mutable using index position"
   ]
  },
  {
   "cell_type": "code",
   "execution_count": 14,
   "id": "b55a324a",
   "metadata": {},
   "outputs": [
    {
     "data": {
      "text/plain": [
       "['string', 1, 33]"
      ]
     },
     "execution_count": 14,
     "metadata": {},
     "output_type": "execute_result"
    }
   ],
   "source": [
    "my_list"
   ]
  },
  {
   "cell_type": "code",
   "execution_count": 15,
   "id": "057c7f8a",
   "metadata": {},
   "outputs": [],
   "source": [
    "my_list[0] = \"STRING ALL CAPS\""
   ]
  },
  {
   "cell_type": "code",
   "execution_count": 16,
   "id": "74834805",
   "metadata": {},
   "outputs": [
    {
     "data": {
      "text/plain": [
       "['STRING ALL CAPS', 1, 33]"
      ]
     },
     "execution_count": 16,
     "metadata": {},
     "output_type": "execute_result"
    }
   ],
   "source": [
    "my_list"
   ]
  },
  {
   "cell_type": "code",
   "execution_count": 18,
   "id": "1fe1a72e",
   "metadata": {},
   "outputs": [],
   "source": [
    "my_list.append(\"appended\")"
   ]
  },
  {
   "cell_type": "code",
   "execution_count": 19,
   "id": "5a1e8bce",
   "metadata": {},
   "outputs": [
    {
     "data": {
      "text/plain": [
       "['STRING ALL CAPS', 1, 33, 'appended']"
      ]
     },
     "execution_count": 19,
     "metadata": {},
     "output_type": "execute_result"
    }
   ],
   "source": [
    "my_list"
   ]
  },
  {
   "cell_type": "code",
   "execution_count": 20,
   "id": "ab8532fd",
   "metadata": {},
   "outputs": [
    {
     "data": {
      "text/plain": [
       "'appended'"
      ]
     },
     "execution_count": 20,
     "metadata": {},
     "output_type": "execute_result"
    }
   ],
   "source": [
    "my_list.pop()"
   ]
  },
  {
   "cell_type": "code",
   "execution_count": 21,
   "id": "3eeb874b",
   "metadata": {},
   "outputs": [
    {
     "data": {
      "text/plain": [
       "['STRING ALL CAPS', 1, 33]"
      ]
     },
     "execution_count": 21,
     "metadata": {},
     "output_type": "execute_result"
    }
   ],
   "source": [
    "my_list"
   ]
  },
  {
   "cell_type": "code",
   "execution_count": 22,
   "id": "9824f6ae",
   "metadata": {},
   "outputs": [
    {
     "data": {
      "text/plain": [
       "'STRING ALL CAPS'"
      ]
     },
     "execution_count": 22,
     "metadata": {},
     "output_type": "execute_result"
    }
   ],
   "source": [
    "my_list.pop(0)"
   ]
  },
  {
   "cell_type": "code",
   "execution_count": 23,
   "id": "f79facfe",
   "metadata": {},
   "outputs": [
    {
     "data": {
      "text/plain": [
       "[1, 33]"
      ]
     },
     "execution_count": 23,
     "metadata": {},
     "output_type": "execute_result"
    }
   ],
   "source": [
    "my_list"
   ]
  },
  {
   "cell_type": "code",
   "execution_count": 26,
   "id": "4e8b1fd7",
   "metadata": {},
   "outputs": [],
   "source": [
    "alpha_list = ['a','z','i','u','p','o']\n",
    "num_list = [8,77,77.01, 8.9,1,3,4]"
   ]
  },
  {
   "cell_type": "code",
   "execution_count": 27,
   "id": "c9741094",
   "metadata": {},
   "outputs": [],
   "source": [
    "alpha_list.sort()"
   ]
  },
  {
   "cell_type": "code",
   "execution_count": 28,
   "id": "96f62b64",
   "metadata": {},
   "outputs": [
    {
     "data": {
      "text/plain": [
       "['a', 'i', 'o', 'p', 'u', 'z']"
      ]
     },
     "execution_count": 28,
     "metadata": {},
     "output_type": "execute_result"
    }
   ],
   "source": [
    "alpha_list"
   ]
  },
  {
   "cell_type": "code",
   "execution_count": 29,
   "id": "3557a272",
   "metadata": {},
   "outputs": [],
   "source": [
    "#we cannot assign sort function to a variable name "
   ]
  },
  {
   "cell_type": "code",
   "execution_count": 31,
   "id": "43add11b",
   "metadata": {},
   "outputs": [],
   "source": [
    " sorted_list = alpha_list.sort()"
   ]
  },
  {
   "cell_type": "code",
   "execution_count": 32,
   "id": "f346f68c",
   "metadata": {},
   "outputs": [],
   "source": [
    "sorted_list"
   ]
  },
  {
   "cell_type": "code",
   "execution_count": 33,
   "id": "02062127",
   "metadata": {},
   "outputs": [
    {
     "data": {
      "text/plain": [
       "NoneType"
      ]
     },
     "execution_count": 33,
     "metadata": {},
     "output_type": "execute_result"
    }
   ],
   "source": [
    "type(sorted_list)"
   ]
  },
  {
   "cell_type": "code",
   "execution_count": 34,
   "id": "be8310cc",
   "metadata": {},
   "outputs": [],
   "source": [
    "None"
   ]
  },
  {
   "cell_type": "code",
   "execution_count": null,
   "id": "554d4d12",
   "metadata": {},
   "outputs": [],
   "source": [
    "# instead try assigning after sorting "
   ]
  },
  {
   "cell_type": "code",
   "execution_count": 35,
   "id": "06a2e825",
   "metadata": {},
   "outputs": [],
   "source": [
    "num_list.sort()"
   ]
  },
  {
   "cell_type": "code",
   "execution_count": 36,
   "id": "923fbe01",
   "metadata": {},
   "outputs": [
    {
     "data": {
      "text/plain": [
       "[1, 3, 4, 8, 8.9, 77, 77.01]"
      ]
     },
     "execution_count": 36,
     "metadata": {},
     "output_type": "execute_result"
    }
   ],
   "source": [
    "num_list"
   ]
  },
  {
   "cell_type": "code",
   "execution_count": 37,
   "id": "ac92bc05",
   "metadata": {},
   "outputs": [],
   "source": [
    "sorted_list = num_list"
   ]
  },
  {
   "cell_type": "code",
   "execution_count": 38,
   "id": "d595ffe9",
   "metadata": {},
   "outputs": [
    {
     "data": {
      "text/plain": [
       "[1, 3, 4, 8, 8.9, 77, 77.01]"
      ]
     },
     "execution_count": 38,
     "metadata": {},
     "output_type": "execute_result"
    }
   ],
   "source": [
    "sorted_list"
   ]
  },
  {
   "cell_type": "code",
   "execution_count": 39,
   "id": "40bbf649",
   "metadata": {},
   "outputs": [],
   "source": [
    "sorted_list.reverse()"
   ]
  },
  {
   "cell_type": "code",
   "execution_count": 40,
   "id": "e108531f",
   "metadata": {},
   "outputs": [
    {
     "data": {
      "text/plain": [
       "[77.01, 77, 8.9, 8, 4, 3, 1]"
      ]
     },
     "execution_count": 40,
     "metadata": {},
     "output_type": "execute_result"
    }
   ],
   "source": [
    "sorted_list"
   ]
  },
  {
   "cell_type": "code",
   "execution_count": 44,
   "id": "a98f2134",
   "metadata": {},
   "outputs": [
    {
     "data": {
      "text/plain": [
       "7"
      ]
     },
     "execution_count": 44,
     "metadata": {},
     "output_type": "execute_result"
    }
   ],
   "source": [
    "len(sorted_list)"
   ]
  },
  {
   "cell_type": "code",
   "execution_count": 45,
   "id": "4726a496",
   "metadata": {},
   "outputs": [],
   "source": [
    "#Basic List Methods\n",
    "#If you are familiar with another programming language, you might start to draw parallels between arrays in another language and lists in Python. \n",
    "#Lists in Python however, tend to be more flexible than arrays in other languages for a two good reasons: they have no fixed size (meaning we don't have to specify how big a list will be), and they have no fixed type constraint (like we've seen above)."
   ]
  },
  {
   "cell_type": "code",
   "execution_count": 46,
   "id": "38da1819",
   "metadata": {},
   "outputs": [
    {
     "ename": "IndexError",
     "evalue": "list index out of range",
     "output_type": "error",
     "traceback": [
      "\u001b[1;31m---------------------------------------------------------------------------\u001b[0m",
      "\u001b[1;31mIndexError\u001b[0m                                Traceback (most recent call last)",
      "\u001b[1;32mC:\\Users\\PD1D7~1.SUR\\AppData\\Local\\Temp/ipykernel_12880/4098536900.py\u001b[0m in \u001b[0;36m<module>\u001b[1;34m\u001b[0m\n\u001b[1;32m----> 1\u001b[1;33m \u001b[0msorted_list\u001b[0m\u001b[1;33m[\u001b[0m\u001b[1;36m100\u001b[0m\u001b[1;33m]\u001b[0m\u001b[1;33m\u001b[0m\u001b[1;33m\u001b[0m\u001b[0m\n\u001b[0m",
      "\u001b[1;31mIndexError\u001b[0m: list index out of range"
     ]
    }
   ],
   "source": [
    "sorted_list[100]                         #It should also be noted that lists indexing will return an error if there is no element at that index."
   ]
  },
  {
   "cell_type": "code",
   "execution_count": 47,
   "id": "9dbc17ab",
   "metadata": {},
   "outputs": [],
   "source": [
    "#Nesting lists\n",
    "#A great feature of of Python data structures is that they support nesting. \n",
    "#This means we can have data structures within data structures"
   ]
  },
  {
   "cell_type": "code",
   "execution_count": 48,
   "id": "bde235e7",
   "metadata": {},
   "outputs": [],
   "source": [
    "lst_1 = [1,2,3]\n",
    "lst_2 = [4,5,6]\n",
    "lst_3 = [7,8,9]"
   ]
  },
  {
   "cell_type": "code",
   "execution_count": 49,
   "id": "8064bf5a",
   "metadata": {},
   "outputs": [],
   "source": [
    "my_matrix = [lst_1 ,lst_2,lst_3]"
   ]
  },
  {
   "cell_type": "code",
   "execution_count": 50,
   "id": "9c09b217",
   "metadata": {},
   "outputs": [
    {
     "data": {
      "text/plain": [
       "[[1, 2, 3], [4, 5, 6], [7, 8, 9]]"
      ]
     },
     "execution_count": 50,
     "metadata": {},
     "output_type": "execute_result"
    }
   ],
   "source": [
    "my_matrix"
   ]
  },
  {
   "cell_type": "code",
   "execution_count": 51,
   "id": "f2da1bb4",
   "metadata": {},
   "outputs": [
    {
     "data": {
      "text/plain": [
       "[1, 2, 3]"
      ]
     },
     "execution_count": 51,
     "metadata": {},
     "output_type": "execute_result"
    }
   ],
   "source": [
    "my_matrix[0]"
   ]
  },
  {
   "cell_type": "code",
   "execution_count": 52,
   "id": "081350d4",
   "metadata": {},
   "outputs": [
    {
     "data": {
      "text/plain": [
       "2"
      ]
     },
     "execution_count": 52,
     "metadata": {},
     "output_type": "execute_result"
    }
   ],
   "source": [
    "my_matrix[0][1]"
   ]
  },
  {
   "cell_type": "code",
   "execution_count": 53,
   "id": "0cfe554f",
   "metadata": {},
   "outputs": [],
   "source": [
    "#List Comprehensions"
   ]
  },
  {
   "cell_type": "code",
   "execution_count": 55,
   "id": "d6ec0220",
   "metadata": {},
   "outputs": [],
   "source": [
    "first_col = [row[0] for row in my_matrix]"
   ]
  },
  {
   "cell_type": "code",
   "execution_count": 56,
   "id": "0e0a1e93",
   "metadata": {},
   "outputs": [
    {
     "data": {
      "text/plain": [
       "[1, 4, 7]"
      ]
     },
     "execution_count": 56,
     "metadata": {},
     "output_type": "execute_result"
    }
   ],
   "source": [
    "first_col"
   ]
  },
  {
   "cell_type": "code",
   "execution_count": 57,
   "id": "cab01dca",
   "metadata": {},
   "outputs": [],
   "source": [
    "# Dictionaries {}"
   ]
  },
  {
   "cell_type": "code",
   "execution_count": 58,
   "id": "bca47ca0",
   "metadata": {},
   "outputs": [],
   "source": [
    "# Are unordered mappings for storing objects, they use key-value pairing. \n",
    "# key-value pair allows users to quickly grab objects without needing to know an index location "
   ]
  },
  {
   "cell_type": "code",
   "execution_count": 59,
   "id": "ae70e391",
   "metadata": {},
   "outputs": [],
   "source": [
    "my_dict = {\"key1\":\"value1\" , \"key2\":\"value2\",\"key3\":\"value3\"}"
   ]
  },
  {
   "cell_type": "code",
   "execution_count": 60,
   "id": "1530e89b",
   "metadata": {},
   "outputs": [
    {
     "data": {
      "text/plain": [
       "{'key1': 'value1', 'key2': 'value2', 'key3': 'value3'}"
      ]
     },
     "execution_count": 60,
     "metadata": {},
     "output_type": "execute_result"
    }
   ],
   "source": [
    "my_dict"
   ]
  },
  {
   "cell_type": "code",
   "execution_count": 62,
   "id": "79b71cc5",
   "metadata": {},
   "outputs": [
    {
     "data": {
      "text/plain": [
       "'value1'"
      ]
     },
     "execution_count": 62,
     "metadata": {},
     "output_type": "execute_result"
    }
   ],
   "source": [
    "my_dict['key1']"
   ]
  },
  {
   "cell_type": "code",
   "execution_count": 63,
   "id": "22cdae0d",
   "metadata": {},
   "outputs": [
    {
     "data": {
      "text/plain": [
       "dict"
      ]
     },
     "execution_count": 63,
     "metadata": {},
     "output_type": "execute_result"
    }
   ],
   "source": [
    "type(my_dict)"
   ]
  },
  {
   "cell_type": "code",
   "execution_count": 64,
   "id": "f46a2531",
   "metadata": {},
   "outputs": [
    {
     "data": {
      "text/plain": [
       "list"
      ]
     },
     "execution_count": 64,
     "metadata": {},
     "output_type": "execute_result"
    }
   ],
   "source": [
    "type(my_matrix)"
   ]
  },
  {
   "cell_type": "code",
   "execution_count": 66,
   "id": "539c6d4e",
   "metadata": {},
   "outputs": [],
   "source": [
    "prices_lookup = {\"apple\": 120 , \"orange\": 70 , \"grapes\" : 100 }"
   ]
  },
  {
   "cell_type": "code",
   "execution_count": 68,
   "id": "8af0832f",
   "metadata": {},
   "outputs": [
    {
     "data": {
      "text/plain": [
       "100"
      ]
     },
     "execution_count": 68,
     "metadata": {},
     "output_type": "execute_result"
    }
   ],
   "source": [
    "prices_lookup[\"grapes\"]"
   ]
  },
  {
   "cell_type": "code",
   "execution_count": 69,
   "id": "cc1c0899",
   "metadata": {},
   "outputs": [],
   "source": [
    "d = {\"key1\": 123 , \"key2\":[0,1,2], \"k3\":{\"inside key\": 100}}"
   ]
  },
  {
   "cell_type": "code",
   "execution_count": 70,
   "id": "aaa1ecd2",
   "metadata": {},
   "outputs": [
    {
     "data": {
      "text/plain": [
       "{'key1': 123, 'key2': [0, 1, 2], 'k3': {'inside key': 100}}"
      ]
     },
     "execution_count": 70,
     "metadata": {},
     "output_type": "execute_result"
    }
   ],
   "source": [
    "d"
   ]
  },
  {
   "cell_type": "code",
   "execution_count": 73,
   "id": "33b197d7",
   "metadata": {},
   "outputs": [
    {
     "data": {
      "text/plain": [
       "2"
      ]
     },
     "execution_count": 73,
     "metadata": {},
     "output_type": "execute_result"
    }
   ],
   "source": [
    "d[\"key2\"][2]"
   ]
  },
  {
   "cell_type": "code",
   "execution_count": 75,
   "id": "2f6f5286",
   "metadata": {},
   "outputs": [
    {
     "data": {
      "text/plain": [
       "100"
      ]
     },
     "execution_count": 75,
     "metadata": {},
     "output_type": "execute_result"
    }
   ],
   "source": [
    "d[\"k3\"][\"inside key\"]"
   ]
  },
  {
   "cell_type": "code",
   "execution_count": 76,
   "id": "d9dace87",
   "metadata": {},
   "outputs": [],
   "source": [
    "a = {\"key1\":['a','b','c']}"
   ]
  },
  {
   "cell_type": "code",
   "execution_count": 77,
   "id": "a2d81cee",
   "metadata": {},
   "outputs": [
    {
     "data": {
      "text/plain": [
       "'C'"
      ]
     },
     "execution_count": 77,
     "metadata": {},
     "output_type": "execute_result"
    }
   ],
   "source": [
    "a['key1'][2].upper()"
   ]
  },
  {
   "cell_type": "code",
   "execution_count": 38,
   "id": "5219d181",
   "metadata": {},
   "outputs": [],
   "source": [
    "D = {\"k1\":['a','b','c'] , 'k2':200}"
   ]
  },
  {
   "cell_type": "code",
   "execution_count": 80,
   "id": "95a0a9e7",
   "metadata": {},
   "outputs": [],
   "source": [
    "D['k3']=300"
   ]
  },
  {
   "cell_type": "code",
   "execution_count": 81,
   "id": "526a7588",
   "metadata": {},
   "outputs": [
    {
     "data": {
      "text/plain": [
       "{'k1': ['a', 'b', 'c'], 'k2': 200, 'k3': 300}"
      ]
     },
     "execution_count": 81,
     "metadata": {},
     "output_type": "execute_result"
    }
   ],
   "source": [
    "D"
   ]
  },
  {
   "cell_type": "code",
   "execution_count": 82,
   "id": "8c926bde",
   "metadata": {},
   "outputs": [],
   "source": [
    "D['k2'] =  500"
   ]
  },
  {
   "cell_type": "code",
   "execution_count": 83,
   "id": "8331d4ed",
   "metadata": {},
   "outputs": [
    {
     "data": {
      "text/plain": [
       "{'k1': ['a', 'b', 'c'], 'k2': 500, 'k3': 300}"
      ]
     },
     "execution_count": 83,
     "metadata": {},
     "output_type": "execute_result"
    }
   ],
   "source": [
    "D."
   ]
  },
  {
   "cell_type": "code",
   "execution_count": 84,
   "id": "d86e448a",
   "metadata": {},
   "outputs": [
    {
     "data": {
      "text/plain": [
       "dict_keys(['k1', 'k2', 'k3'])"
      ]
     },
     "execution_count": 84,
     "metadata": {},
     "output_type": "execute_result"
    }
   ],
   "source": [
    "D.keys()                                 # to return all the keys of a dictionary "
   ]
  },
  {
   "cell_type": "code",
   "execution_count": 85,
   "id": "022bf456",
   "metadata": {},
   "outputs": [],
   "source": [
    "D['k2'] = D['k2'] - 500"
   ]
  },
  {
   "cell_type": "code",
   "execution_count": 86,
   "id": "ed56850c",
   "metadata": {},
   "outputs": [
    {
     "data": {
      "text/plain": [
       "{'k1': ['a', 'b', 'c'], 'k2': 0, 'k3': 300}"
      ]
     },
     "execution_count": 86,
     "metadata": {},
     "output_type": "execute_result"
    }
   ],
   "source": [
    "D"
   ]
  },
  {
   "cell_type": "code",
   "execution_count": 87,
   "id": "afd11719",
   "metadata": {},
   "outputs": [],
   "source": [
    "D['k2'] -= 500"
   ]
  },
  {
   "cell_type": "code",
   "execution_count": 88,
   "id": "0cbd9135",
   "metadata": {},
   "outputs": [
    {
     "data": {
      "text/plain": [
       "{'k1': ['a', 'b', 'c'], 'k2': -500, 'k3': 300}"
      ]
     },
     "execution_count": 88,
     "metadata": {},
     "output_type": "execute_result"
    }
   ],
   "source": [
    "D"
   ]
  },
  {
   "cell_type": "code",
   "execution_count": 89,
   "id": "33b0031a",
   "metadata": {},
   "outputs": [],
   "source": [
    "# We can also create keys by assignment. For instance if we started off with an empty dictionary, we could continually add to it"
   ]
  },
  {
   "cell_type": "code",
   "execution_count": 90,
   "id": "fd136194",
   "metadata": {},
   "outputs": [],
   "source": [
    "d = {}"
   ]
  },
  {
   "cell_type": "code",
   "execution_count": 91,
   "id": "dcc8caff",
   "metadata": {},
   "outputs": [],
   "source": [
    "d['answer'] = '42'"
   ]
  },
  {
   "cell_type": "code",
   "execution_count": 92,
   "id": "484c6ad5",
   "metadata": {},
   "outputs": [],
   "source": [
    "d['animal'] = 'dog'"
   ]
  },
  {
   "cell_type": "code",
   "execution_count": 93,
   "id": "af274e66",
   "metadata": {},
   "outputs": [
    {
     "data": {
      "text/plain": [
       "{'answer': 'Dog', 'animal': 'dog'}"
      ]
     },
     "execution_count": 93,
     "metadata": {},
     "output_type": "execute_result"
    }
   ],
   "source": [
    "d"
   ]
  },
  {
   "cell_type": "code",
   "execution_count": 94,
   "id": "4a7aa08f",
   "metadata": {},
   "outputs": [],
   "source": [
    "# Nesting with Dictionaries"
   ]
  },
  {
   "cell_type": "code",
   "execution_count": 96,
   "id": "5df07990",
   "metadata": {},
   "outputs": [],
   "source": [
    "d={'key1':{'nestkey':{'subnestkey':'value'}}}"
   ]
  },
  {
   "cell_type": "code",
   "execution_count": 97,
   "id": "995e4da8",
   "metadata": {},
   "outputs": [
    {
     "data": {
      "text/plain": [
       "'value'"
      ]
     },
     "execution_count": 97,
     "metadata": {},
     "output_type": "execute_result"
    }
   ],
   "source": [
    "d['key1']['nestkey']['subnestkey']"
   ]
  },
  {
   "cell_type": "code",
   "execution_count": 98,
   "id": "0474e5de",
   "metadata": {},
   "outputs": [
    {
     "data": {
      "text/plain": [
       "dict_keys(['key1'])"
      ]
     },
     "execution_count": 98,
     "metadata": {},
     "output_type": "execute_result"
    }
   ],
   "source": [
    "d.keys()"
   ]
  },
  {
   "cell_type": "code",
   "execution_count": 99,
   "id": "2e610575",
   "metadata": {},
   "outputs": [
    {
     "data": {
      "text/plain": [
       "dict_values([{'nestkey': {'subnestkey': 'value'}}])"
      ]
     },
     "execution_count": 99,
     "metadata": {},
     "output_type": "execute_result"
    }
   ],
   "source": [
    "d.values()"
   ]
  },
  {
   "cell_type": "code",
   "execution_count": 100,
   "id": "1e911bad",
   "metadata": {},
   "outputs": [
    {
     "data": {
      "text/plain": [
       "dict_values([['a', 'b', 'c'], -500, 300])"
      ]
     },
     "execution_count": 100,
     "metadata": {},
     "output_type": "execute_result"
    }
   ],
   "source": [
    "D.values()"
   ]
  },
  {
   "cell_type": "code",
   "execution_count": 101,
   "id": "7aec1153",
   "metadata": {},
   "outputs": [
    {
     "data": {
      "text/plain": [
       "dict_items([('k1', ['a', 'b', 'c']), ('k2', -500), ('k3', 300)])"
      ]
     },
     "execution_count": 101,
     "metadata": {},
     "output_type": "execute_result"
    }
   ],
   "source": [
    "D.items()                               # Method to return tuples of all items "
   ]
  },
  {
   "cell_type": "code",
   "execution_count": 102,
   "id": "05034011",
   "metadata": {},
   "outputs": [],
   "source": [
    "# Tuples are very similar to lists. However they have one key difference -immutability ()"
   ]
  },
  {
   "cell_type": "code",
   "execution_count": 1,
   "id": "564b23c7",
   "metadata": {},
   "outputs": [],
   "source": [
    "t = (1 ,2 ,3)"
   ]
  },
  {
   "cell_type": "code",
   "execution_count": 2,
   "id": "9d90cb66",
   "metadata": {},
   "outputs": [
    {
     "data": {
      "text/plain": [
       "tuple"
      ]
     },
     "execution_count": 2,
     "metadata": {},
     "output_type": "execute_result"
    }
   ],
   "source": [
    "type(t)"
   ]
  },
  {
   "cell_type": "code",
   "execution_count": 3,
   "id": "92d14c0f",
   "metadata": {},
   "outputs": [],
   "source": [
    "mylist = [1,2,3]"
   ]
  },
  {
   "cell_type": "code",
   "execution_count": 4,
   "id": "399b803b",
   "metadata": {},
   "outputs": [
    {
     "data": {
      "text/plain": [
       "list"
      ]
     },
     "execution_count": 4,
     "metadata": {},
     "output_type": "execute_result"
    }
   ],
   "source": [
    "type(mylist)"
   ]
  },
  {
   "cell_type": "code",
   "execution_count": 5,
   "id": "58be4d57",
   "metadata": {},
   "outputs": [],
   "source": [
    "t = ('one' , 2)"
   ]
  },
  {
   "cell_type": "code",
   "execution_count": 6,
   "id": "148f2398",
   "metadata": {},
   "outputs": [
    {
     "data": {
      "text/plain": [
       "'one'"
      ]
     },
     "execution_count": 6,
     "metadata": {},
     "output_type": "execute_result"
    }
   ],
   "source": [
    "t[0]"
   ]
  },
  {
   "cell_type": "code",
   "execution_count": 7,
   "id": "4ee9d884",
   "metadata": {},
   "outputs": [
    {
     "data": {
      "text/plain": [
       "2"
      ]
     },
     "execution_count": 7,
     "metadata": {},
     "output_type": "execute_result"
    }
   ],
   "source": [
    "t[-1]"
   ]
  },
  {
   "cell_type": "code",
   "execution_count": 8,
   "id": "bc27bf98",
   "metadata": {},
   "outputs": [],
   "source": [
    "t = ('a', 'a', 'b')"
   ]
  },
  {
   "cell_type": "code",
   "execution_count": 9,
   "id": "68df0bd0",
   "metadata": {},
   "outputs": [
    {
     "data": {
      "text/plain": [
       "2"
      ]
     },
     "execution_count": 9,
     "metadata": {},
     "output_type": "execute_result"
    }
   ],
   "source": [
    "t.count('a')"
   ]
  },
  {
   "cell_type": "code",
   "execution_count": 11,
   "id": "12976700",
   "metadata": {},
   "outputs": [
    {
     "data": {
      "text/plain": [
       "0"
      ]
     },
     "execution_count": 11,
     "metadata": {},
     "output_type": "execute_result"
    }
   ],
   "source": [
    "t.index('a')"
   ]
  },
  {
   "cell_type": "code",
   "execution_count": 12,
   "id": "0b8ebf6a",
   "metadata": {},
   "outputs": [
    {
     "data": {
      "text/plain": [
       "('a', 'a', 'b')"
      ]
     },
     "execution_count": 12,
     "metadata": {},
     "output_type": "execute_result"
    }
   ],
   "source": [
    "t"
   ]
  },
  {
   "cell_type": "code",
   "execution_count": 13,
   "id": "cc0537ec",
   "metadata": {},
   "outputs": [
    {
     "ename": "TypeError",
     "evalue": "'tuple' object does not support item assignment",
     "output_type": "error",
     "traceback": [
      "\u001b[1;31m---------------------------------------------------------------------------\u001b[0m",
      "\u001b[1;31mTypeError\u001b[0m                                 Traceback (most recent call last)",
      "\u001b[1;32mC:\\Users\\PD1D7~1.SUR\\AppData\\Local\\Temp/ipykernel_15960/2140988817.py\u001b[0m in \u001b[0;36m<module>\u001b[1;34m\u001b[0m\n\u001b[1;32m----> 1\u001b[1;33m \u001b[0mt\u001b[0m\u001b[1;33m[\u001b[0m\u001b[1;36m0\u001b[0m\u001b[1;33m]\u001b[0m \u001b[1;33m=\u001b[0m \u001b[1;34m'NEW'\u001b[0m\u001b[1;33m\u001b[0m\u001b[1;33m\u001b[0m\u001b[0m\n\u001b[0m",
      "\u001b[1;31mTypeError\u001b[0m: 'tuple' object does not support item assignment"
     ]
    }
   ],
   "source": [
    "t[0] = 'NEW'                             #immutable"
   ]
  },
  {
   "cell_type": "code",
   "execution_count": 14,
   "id": "a16f33c7",
   "metadata": {},
   "outputs": [
    {
     "ename": "AttributeError",
     "evalue": "'tuple' object has no attribute 'append'",
     "output_type": "error",
     "traceback": [
      "\u001b[1;31m---------------------------------------------------------------------------\u001b[0m",
      "\u001b[1;31mAttributeError\u001b[0m                            Traceback (most recent call last)",
      "\u001b[1;32mC:\\Users\\PD1D7~1.SUR\\AppData\\Local\\Temp/ipykernel_15960/373347750.py\u001b[0m in \u001b[0;36m<module>\u001b[1;34m\u001b[0m\n\u001b[1;32m----> 1\u001b[1;33m \u001b[0mt\u001b[0m\u001b[1;33m.\u001b[0m\u001b[0mappend\u001b[0m\u001b[1;33m(\u001b[0m\u001b[1;34m\"nope\"\u001b[0m\u001b[1;33m)\u001b[0m\u001b[1;33m\u001b[0m\u001b[1;33m\u001b[0m\u001b[0m\n\u001b[0m",
      "\u001b[1;31mAttributeError\u001b[0m: 'tuple' object has no attribute 'append'"
     ]
    }
   ],
   "source": [
    "t.append(\"nope\")"
   ]
  },
  {
   "cell_type": "code",
   "execution_count": 15,
   "id": "0f1acb6c",
   "metadata": {},
   "outputs": [],
   "source": [
    "# Sets are unordered collection of unique elements. Meaning there can be only one representative of the same object."
   ]
  },
  {
   "cell_type": "code",
   "execution_count": 16,
   "id": "b68199c5",
   "metadata": {},
   "outputs": [],
   "source": [
    "myset = set()"
   ]
  },
  {
   "cell_type": "code",
   "execution_count": 17,
   "id": "9f22e9c3",
   "metadata": {},
   "outputs": [
    {
     "data": {
      "text/plain": [
       "set()"
      ]
     },
     "execution_count": 17,
     "metadata": {},
     "output_type": "execute_result"
    }
   ],
   "source": [
    "myset"
   ]
  },
  {
   "cell_type": "code",
   "execution_count": 18,
   "id": "4d15d733",
   "metadata": {},
   "outputs": [],
   "source": [
    "myset.add(1)"
   ]
  },
  {
   "cell_type": "code",
   "execution_count": 19,
   "id": "6d15508f",
   "metadata": {},
   "outputs": [
    {
     "data": {
      "text/plain": [
       "{1}"
      ]
     },
     "execution_count": 19,
     "metadata": {},
     "output_type": "execute_result"
    }
   ],
   "source": [
    "myset"
   ]
  },
  {
   "cell_type": "code",
   "execution_count": 21,
   "id": "2adb0fa4",
   "metadata": {},
   "outputs": [
    {
     "data": {
      "text/plain": [
       "set"
      ]
     },
     "execution_count": 21,
     "metadata": {},
     "output_type": "execute_result"
    }
   ],
   "source": [
    "type(myset)"
   ]
  },
  {
   "cell_type": "code",
   "execution_count": 22,
   "id": "1b99ceb4",
   "metadata": {},
   "outputs": [],
   "source": [
    "myset.add(2)"
   ]
  },
  {
   "cell_type": "code",
   "execution_count": 23,
   "id": "4564b799",
   "metadata": {},
   "outputs": [
    {
     "data": {
      "text/plain": [
       "{1, 2}"
      ]
     },
     "execution_count": 23,
     "metadata": {},
     "output_type": "execute_result"
    }
   ],
   "source": [
    "myset"
   ]
  },
  {
   "cell_type": "code",
   "execution_count": 24,
   "id": "38b336f5",
   "metadata": {},
   "outputs": [],
   "source": [
    "myset.add(2)                   #sets only take unique objects"
   ]
  },
  {
   "cell_type": "code",
   "execution_count": 25,
   "id": "ad14d335",
   "metadata": {},
   "outputs": [
    {
     "data": {
      "text/plain": [
       "{1, 2}"
      ]
     },
     "execution_count": 25,
     "metadata": {},
     "output_type": "execute_result"
    }
   ],
   "source": [
    "myset"
   ]
  },
  {
   "cell_type": "code",
   "execution_count": 26,
   "id": "6471e2fb",
   "metadata": {},
   "outputs": [],
   "source": [
    "mylist = [1,1,1,1,2,2,2,3,3,3]"
   ]
  },
  {
   "cell_type": "code",
   "execution_count": 27,
   "id": "73d22a1e",
   "metadata": {},
   "outputs": [
    {
     "data": {
      "text/plain": [
       "{1, 2, 3}"
      ]
     },
     "execution_count": 27,
     "metadata": {},
     "output_type": "execute_result"
    }
   ],
   "source": [
    "set(mylist)"
   ]
  },
  {
   "cell_type": "code",
   "execution_count": 28,
   "id": "56c023a5",
   "metadata": {},
   "outputs": [],
   "source": [
    "# Booleans are operators that allow you to convey TRUE/FALSE statements "
   ]
  },
  {
   "cell_type": "code",
   "execution_count": 29,
   "id": "6ab6736b",
   "metadata": {},
   "outputs": [
    {
     "data": {
      "text/plain": [
       "True"
      ]
     },
     "execution_count": 29,
     "metadata": {},
     "output_type": "execute_result"
    }
   ],
   "source": [
    "True"
   ]
  },
  {
   "cell_type": "code",
   "execution_count": 33,
   "id": "2ed952d8",
   "metadata": {},
   "outputs": [
    {
     "data": {
      "text/plain": [
       "False"
      ]
     },
     "execution_count": 33,
     "metadata": {},
     "output_type": "execute_result"
    }
   ],
   "source": [
    "False"
   ]
  },
  {
   "cell_type": "code",
   "execution_count": 34,
   "id": "28dfa99c",
   "metadata": {},
   "outputs": [
    {
     "data": {
      "text/plain": [
       "bool"
      ]
     },
     "execution_count": 34,
     "metadata": {},
     "output_type": "execute_result"
    }
   ],
   "source": [
    "type(True)"
   ]
  },
  {
   "cell_type": "code",
   "execution_count": 35,
   "id": "b2bd2db4",
   "metadata": {},
   "outputs": [
    {
     "data": {
      "text/plain": [
       "bool"
      ]
     },
     "execution_count": 35,
     "metadata": {},
     "output_type": "execute_result"
    }
   ],
   "source": [
    "type(False)"
   ]
  },
  {
   "cell_type": "code",
   "execution_count": 36,
   "id": "50efdf67",
   "metadata": {},
   "outputs": [
    {
     "data": {
      "text/plain": [
       "False"
      ]
     },
     "execution_count": 36,
     "metadata": {},
     "output_type": "execute_result"
    }
   ],
   "source": [
    "5 > 8"
   ]
  },
  {
   "cell_type": "code",
   "execution_count": 37,
   "id": "a80d4b26",
   "metadata": {},
   "outputs": [
    {
     "data": {
      "text/plain": [
       "True"
      ]
     },
     "execution_count": 37,
     "metadata": {},
     "output_type": "execute_result"
    }
   ],
   "source": [
    "1 == 1"
   ]
  },
  {
   "cell_type": "code",
   "execution_count": 39,
   "id": "a2b23366",
   "metadata": {},
   "outputs": [],
   "source": [
    "#We can use None as a placeholder for an object that we don't want to reassign yet"
   ]
  },
  {
   "cell_type": "code",
   "execution_count": 40,
   "id": "5f20654d",
   "metadata": {},
   "outputs": [],
   "source": [
    "b = None"
   ]
  },
  {
   "cell_type": "code",
   "execution_count": 41,
   "id": "b29ab106",
   "metadata": {},
   "outputs": [
    {
     "name": "stdout",
     "output_type": "stream",
     "text": [
      "None\n"
     ]
    }
   ],
   "source": [
    "print(b)"
   ]
  },
  {
   "cell_type": "code",
   "execution_count": 42,
   "id": "dbaf1c9c",
   "metadata": {},
   "outputs": [],
   "source": [
    "# I/O with basic files in python"
   ]
  },
  {
   "cell_type": "code",
   "execution_count": 44,
   "id": "14b0f29b",
   "metadata": {},
   "outputs": [
    {
     "name": "stdout",
     "output_type": "stream",
     "text": [
      "Writing myfile.txt\n"
     ]
    }
   ],
   "source": [
    "%%writefile myfile.txt\n",
    "Hello this is a second line \n",
    "This is the third line  \n",
    "This is the text file  \n",
    "\n"
   ]
  },
  {
   "cell_type": "code",
   "execution_count": 45,
   "id": "c1fe2873",
   "metadata": {},
   "outputs": [],
   "source": [
    "myfile = open('myfile.txt')"
   ]
  },
  {
   "cell_type": "code",
   "execution_count": 46,
   "id": "c35310ea",
   "metadata": {},
   "outputs": [
    {
     "ename": "FileNotFoundError",
     "evalue": "[Errno 2] No such file or directory: 'whoops_wrong.txt'",
     "output_type": "error",
     "traceback": [
      "\u001b[1;31m---------------------------------------------------------------------------\u001b[0m",
      "\u001b[1;31mFileNotFoundError\u001b[0m                         Traceback (most recent call last)",
      "\u001b[1;32mC:\\Users\\PD1D7~1.SUR\\AppData\\Local\\Temp/ipykernel_15960/1915671819.py\u001b[0m in \u001b[0;36m<module>\u001b[1;34m\u001b[0m\n\u001b[1;32m----> 1\u001b[1;33m \u001b[0mmyfile\u001b[0m \u001b[1;33m=\u001b[0m \u001b[0mopen\u001b[0m\u001b[1;33m(\u001b[0m\u001b[1;34m'whoops_wrong.txt'\u001b[0m\u001b[1;33m)\u001b[0m\u001b[1;33m\u001b[0m\u001b[1;33m\u001b[0m\u001b[0m\n\u001b[0m",
      "\u001b[1;31mFileNotFoundError\u001b[0m: [Errno 2] No such file or directory: 'whoops_wrong.txt'"
     ]
    }
   ],
   "source": [
    "myfile = open('whoops_wrong.txt')"
   ]
  },
  {
   "cell_type": "code",
   "execution_count": 47,
   "id": "5101061a",
   "metadata": {},
   "outputs": [
    {
     "data": {
      "text/plain": [
       "'C:\\\\Users\\\\p.suryanarayana'"
      ]
     },
     "execution_count": 47,
     "metadata": {},
     "output_type": "execute_result"
    }
   ],
   "source": [
    "pwd"
   ]
  },
  {
   "cell_type": "code",
   "execution_count": 48,
   "id": "932fd99c",
   "metadata": {},
   "outputs": [
    {
     "data": {
      "text/plain": [
       "'Hello this is a text file \\nThis is the  second line \\nThis is the third line \\n\\n'"
      ]
     },
     "execution_count": 48,
     "metadata": {},
     "output_type": "execute_result"
    }
   ],
   "source": [
    "myfile.read()"
   ]
  },
  {
   "cell_type": "code",
   "execution_count": 50,
   "id": "0e02ebb7",
   "metadata": {},
   "outputs": [
    {
     "name": "stdout",
     "output_type": "stream",
     "text": [
      "Writing anotherfile.txt\n"
     ]
    }
   ],
   "source": [
    "%%writefile anotherfile.txt\n",
    "this is he first line \\n\n",
    "this is the second line\n"
   ]
  },
  {
   "cell_type": "code",
   "execution_count": 51,
   "id": "3daf209b",
   "metadata": {},
   "outputs": [],
   "source": [
    "anotherfile = open(\"anotherfile.txt\")"
   ]
  },
  {
   "cell_type": "code",
   "execution_count": 52,
   "id": "218cc719",
   "metadata": {},
   "outputs": [
    {
     "data": {
      "text/plain": [
       "'this is he first line \\\\n\\nthis is the second line\\n'"
      ]
     },
     "execution_count": 52,
     "metadata": {},
     "output_type": "execute_result"
    }
   ],
   "source": [
    "anotherfile.read()"
   ]
  },
  {
   "cell_type": "code",
   "execution_count": 53,
   "id": "ded84eff",
   "metadata": {},
   "outputs": [
    {
     "data": {
      "text/plain": [
       "''"
      ]
     },
     "execution_count": 53,
     "metadata": {},
     "output_type": "execute_result"
    }
   ],
   "source": [
    "anotherfile.read()          #when i read the file again it returns empty quotes because the cursor is set at the end of the line and after which it is empty space , so we will have to seek to position 0 to read the file again "
   ]
  },
  {
   "cell_type": "code",
   "execution_count": 54,
   "id": "b4853cc5",
   "metadata": {},
   "outputs": [
    {
     "data": {
      "text/plain": [
       "0"
      ]
     },
     "execution_count": 54,
     "metadata": {},
     "output_type": "execute_result"
    }
   ],
   "source": [
    "anotherfile.seek(0)"
   ]
  },
  {
   "cell_type": "code",
   "execution_count": 56,
   "id": "a3c25d25",
   "metadata": {},
   "outputs": [
    {
     "data": {
      "text/plain": [
       "'this is he first line \\\\n\\nthis is the second line\\n'"
      ]
     },
     "execution_count": 56,
     "metadata": {},
     "output_type": "execute_result"
    }
   ],
   "source": [
    "anotherfile.read()"
   ]
  },
  {
   "cell_type": "code",
   "execution_count": 66,
   "id": "5a424c61",
   "metadata": {},
   "outputs": [
    {
     "data": {
      "text/plain": [
       "0"
      ]
     },
     "execution_count": 66,
     "metadata": {},
     "output_type": "execute_result"
    }
   ],
   "source": [
    "myfile.seek(0)"
   ]
  },
  {
   "cell_type": "code",
   "execution_count": 64,
   "id": "d54735f7",
   "metadata": {},
   "outputs": [],
   "source": [
    "content = myfile.read()"
   ]
  },
  {
   "cell_type": "code",
   "execution_count": 61,
   "id": "13dda8c8",
   "metadata": {},
   "outputs": [
    {
     "data": {
      "text/plain": [
       "'Hello this is a text file \\nThis is the  second line \\nThis is the third line \\n\\n'"
      ]
     },
     "execution_count": 61,
     "metadata": {},
     "output_type": "execute_result"
    }
   ],
   "source": [
    "content"
   ]
  },
  {
   "cell_type": "code",
   "execution_count": 67,
   "id": "ed451bf7",
   "metadata": {},
   "outputs": [
    {
     "data": {
      "text/plain": [
       "['Hello this is a text file \\n',\n",
       " 'This is the  second line \\n',\n",
       " 'This is the third line \\n',\n",
       " '\\n']"
      ]
     },
     "execution_count": 67,
     "metadata": {},
     "output_type": "execute_result"
    }
   ],
   "source": [
    "myfile.readlines()"
   ]
  },
  {
   "cell_type": "code",
   "execution_count": 68,
   "id": "b635fe0a",
   "metadata": {},
   "outputs": [],
   "source": [
    "# If we want to open files at anther location on your computer, simply pass in the entire file path "
   ]
  },
  {
   "cell_type": "code",
   "execution_count": 72,
   "id": "bd9351f5",
   "metadata": {},
   "outputs": [
    {
     "ename": "PermissionError",
     "evalue": "[Errno 13] Permission denied: 'C:\\\\Users\\\\p.suryanarayana\\\\Downloads'",
     "output_type": "error",
     "traceback": [
      "\u001b[1;31m---------------------------------------------------------------------------\u001b[0m",
      "\u001b[1;31mPermissionError\u001b[0m                           Traceback (most recent call last)",
      "\u001b[1;32mC:\\Users\\PD1D7~1.SUR\\AppData\\Local\\Temp/ipykernel_15960/2165337925.py\u001b[0m in \u001b[0;36m<module>\u001b[1;34m\u001b[0m\n\u001b[1;32m----> 1\u001b[1;33m \u001b[0mmyfile\u001b[0m \u001b[1;33m=\u001b[0m \u001b[0mopen\u001b[0m\u001b[1;33m(\u001b[0m\u001b[1;34m\"C:\\\\Users\\\\p.suryanarayana\\\\Downloads\"\u001b[0m\u001b[1;33m)\u001b[0m\u001b[1;33m\u001b[0m\u001b[1;33m\u001b[0m\u001b[0m\n\u001b[0m",
      "\u001b[1;31mPermissionError\u001b[0m: [Errno 13] Permission denied: 'C:\\\\Users\\\\p.suryanarayana\\\\Downloads'"
     ]
    }
   ],
   "source": [
    "myfile = open(\"C:\\\\Users\\\\p.suryanarayana\\\\Downloads\")"
   ]
  },
  {
   "cell_type": "code",
   "execution_count": 73,
   "id": "3e8c92df",
   "metadata": {},
   "outputs": [
    {
     "data": {
      "text/plain": [
       "'C:\\\\Users\\\\p.suryanarayana'"
      ]
     },
     "execution_count": 73,
     "metadata": {},
     "output_type": "execute_result"
    }
   ],
   "source": [
    "pwd"
   ]
  },
  {
   "cell_type": "code",
   "execution_count": 74,
   "id": "e220d741",
   "metadata": {},
   "outputs": [],
   "source": [
    "myfile.close()"
   ]
  },
  {
   "cell_type": "code",
   "execution_count": 75,
   "id": "2b9027bf",
   "metadata": {},
   "outputs": [],
   "source": [
    "# if I do not wish to close my file everytime i can follow the below method "
   ]
  },
  {
   "cell_type": "code",
   "execution_count": 76,
   "id": "f7b67c40",
   "metadata": {},
   "outputs": [],
   "source": [
    "with open(\"myfile.txt\") as my_newfile:\n",
    "    contents = my_newfile.read()"
   ]
  },
  {
   "cell_type": "code",
   "execution_count": 77,
   "id": "f0978b26",
   "metadata": {},
   "outputs": [
    {
     "data": {
      "text/plain": [
       "'Hello this is a text file \\nThis is the  second line \\nThis is the third line \\n\\n'"
      ]
     },
     "execution_count": 77,
     "metadata": {},
     "output_type": "execute_result"
    }
   ],
   "source": [
    "contents"
   ]
  },
  {
   "cell_type": "code",
   "execution_count": 1,
   "id": "40828edc",
   "metadata": {},
   "outputs": [],
   "source": [
    "with open(\"myfile.txt\", mode ='r') as my_new_file:\n",
    "    contents = my_new_file.read()                                  #beside the function (open brackets) if you press shift tab, it displays all the avalaible information for functions thats already been defined "
   ]
  },
  {
   "cell_type": "code",
   "execution_count": 2,
   "id": "63a328ab",
   "metadata": {},
   "outputs": [
    {
     "data": {
      "text/plain": [
       "'Hello this is a text file \\nThis is the  second line \\nThis is the third line \\n\\n'"
      ]
     },
     "execution_count": 2,
     "metadata": {},
     "output_type": "execute_result"
    }
   ],
   "source": [
    "contents"
   ]
  },
  {
   "cell_type": "code",
   "execution_count": 3,
   "id": "8446d037",
   "metadata": {},
   "outputs": [],
   "source": [
    "# reading , writing and appending modes"
   ]
  },
  {
   "cell_type": "code",
   "execution_count": 4,
   "id": "5dfd7416",
   "metadata": {},
   "outputs": [],
   "source": [
    "mode = 'r' # read only "
   ]
  },
  {
   "cell_type": "code",
   "execution_count": 5,
   "id": "e036670b",
   "metadata": {},
   "outputs": [],
   "source": [
    "mode = 'w' # write only (will overwrite files or create new)"
   ]
  },
  {
   "cell_type": "code",
   "execution_count": 6,
   "id": "b6c5feb2",
   "metadata": {},
   "outputs": [],
   "source": [
    "mode = 'a' # append only (will add on to files)"
   ]
  },
  {
   "cell_type": "code",
   "execution_count": 7,
   "id": "81a05370",
   "metadata": {},
   "outputs": [],
   "source": [
    "mode = 'r+' # is reading and writing "
   ]
  },
  {
   "cell_type": "code",
   "execution_count": 8,
   "id": "8eb5fd64",
   "metadata": {},
   "outputs": [],
   "source": [
    "mode = 'w+' # is writing and reading (overwrites existing files or creates a new file)"
   ]
  },
  {
   "cell_type": "code",
   "execution_count": 1,
   "id": "34bb16f5",
   "metadata": {},
   "outputs": [
    {
     "data": {
      "text/plain": [
       "'C:\\\\Users\\\\p.suryanarayana'"
      ]
     },
     "execution_count": 1,
     "metadata": {},
     "output_type": "execute_result"
    }
   ],
   "source": [
    "pwd"
   ]
  },
  {
   "cell_type": "code",
   "execution_count": 2,
   "id": "6ffc982d",
   "metadata": {},
   "outputs": [
    {
     "name": "stdout",
     "output_type": "stream",
     "text": [
      "Overwriting newfile.txt\n"
     ]
    }
   ],
   "source": [
    "%%writefile newfile.txt\n",
    "this is a test text file \n",
    "by the time i created this one i had taken a long break\n",
    "sp starting with i/o files again"
   ]
  },
  {
   "cell_type": "code",
   "execution_count": 3,
   "id": "6006ea5b",
   "metadata": {},
   "outputs": [],
   "source": [
    "myfile = open('newfile.txt')"
   ]
  },
  {
   "cell_type": "code",
   "execution_count": 5,
   "id": "1dd07924",
   "metadata": {},
   "outputs": [
    {
     "data": {
      "text/plain": [
       "'this is a test text file \\nby the time i created this one i had taken a long break\\nsp starting with i/o files again\\n'"
      ]
     },
     "execution_count": 5,
     "metadata": {},
     "output_type": "execute_result"
    }
   ],
   "source": [
    "myfile.read()"
   ]
  },
  {
   "cell_type": "code",
   "execution_count": null,
   "id": "9053e408",
   "metadata": {},
   "outputs": [],
   "source": []
  }
 ],
 "metadata": {
  "kernelspec": {
   "display_name": "Python 3 (ipykernel)",
   "language": "python",
   "name": "python3"
  },
  "language_info": {
   "codemirror_mode": {
    "name": "ipython",
    "version": 3
   },
   "file_extension": ".py",
   "mimetype": "text/x-python",
   "name": "python",
   "nbconvert_exporter": "python",
   "pygments_lexer": "ipython3",
   "version": "3.9.7"
  }
 },
 "nbformat": 4,
 "nbformat_minor": 5
}
