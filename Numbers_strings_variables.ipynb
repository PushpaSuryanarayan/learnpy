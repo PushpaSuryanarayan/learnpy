{
 "cells": [
  {
   "cell_type": "code",
   "execution_count": 7,
   "id": "d7002940",
   "metadata": {},
   "outputs": [
    {
     "name": "stdout",
     "output_type": "stream",
     "text": [
      "Hi\n"
     ]
    }
   ],
   "source": [
    "print(\"Hi\")"
   ]
  },
  {
   "cell_type": "markdown",
   "id": "3bd24421",
   "metadata": {},
   "source": [
    "# Numbers"
   ]
  },
  {
   "cell_type": "code",
   "execution_count": 3,
   "id": "45a37c26",
   "metadata": {},
   "outputs": [
    {
     "data": {
      "text/plain": [
       "0.5999999999999996"
      ]
     },
     "execution_count": 3,
     "metadata": {},
     "output_type": "execute_result"
    }
   ],
   "source": [
    "12.6%2"
   ]
  },
  {
   "cell_type": "code",
   "execution_count": 11,
   "id": "3742740f",
   "metadata": {},
   "outputs": [
    {
     "data": {
      "text/plain": [
       "5.0"
      ]
     },
     "execution_count": 11,
     "metadata": {},
     "output_type": "execute_result"
    }
   ],
   "source": [
    "(50 - 5*6) / 4"
   ]
  },
  {
   "cell_type": "code",
   "execution_count": 12,
   "id": "24052ca6",
   "metadata": {},
   "outputs": [
    {
     "ename": "NameError",
     "evalue": "name 'n' is not defined",
     "output_type": "error",
     "traceback": [
      "\u001b[1;31m---------------------------------------------------------------------------\u001b[0m",
      "\u001b[1;31mNameError\u001b[0m                                 Traceback (most recent call last)",
      "\u001b[1;32mC:\\Users\\PD1D7~1.SUR\\AppData\\Local\\Temp/ipykernel_17268/1249512285.py\u001b[0m in \u001b[0;36m<module>\u001b[1;34m\u001b[0m\n\u001b[1;32m----> 1\u001b[1;33m \u001b[0mn\u001b[0m\u001b[1;33m\u001b[0m\u001b[1;33m\u001b[0m\u001b[0m\n\u001b[0m",
      "\u001b[1;31mNameError\u001b[0m: name 'n' is not defined"
     ]
    }
   ],
   "source": [
    "n                        # variable not defined"
   ]
  },
  {
   "cell_type": "code",
   "execution_count": 8,
   "id": "74d70d98",
   "metadata": {},
   "outputs": [
    {
     "data": {
      "text/plain": [
       "14.0"
      ]
     },
     "execution_count": 8,
     "metadata": {},
     "output_type": "execute_result"
    }
   ],
   "source": [
    "4*3.75-1                # operators with mixed type operands convert the integer operand to floating point"
   ]
  },
  {
   "cell_type": "code",
   "execution_count": 13,
   "id": "41967f47",
   "metadata": {},
   "outputs": [
    {
     "data": {
      "text/plain": [
       "1.0"
      ]
     },
     "execution_count": 13,
     "metadata": {},
     "output_type": "execute_result"
    }
   ],
   "source": [
    "5/5                    # division always returns a floating point number "
   ]
  },
  {
   "cell_type": "code",
   "execution_count": 14,
   "id": "97dd932a",
   "metadata": {},
   "outputs": [
    {
     "data": {
      "text/plain": [
       "5"
      ]
     },
     "execution_count": 14,
     "metadata": {},
     "output_type": "execute_result"
    }
   ],
   "source": [
    "17//3                  # Floor division discards the fractional part "
   ]
  },
  {
   "cell_type": "code",
   "execution_count": 15,
   "id": "e8b28c1f",
   "metadata": {},
   "outputs": [
    {
     "data": {
      "text/plain": [
       "2"
      ]
     },
     "execution_count": 15,
     "metadata": {},
     "output_type": "execute_result"
    }
   ],
   "source": [
    "17 % 3                # the % operator returns the remainder of the division"
   ]
  },
  {
   "cell_type": "code",
   "execution_count": 16,
   "id": "a35dc2ce",
   "metadata": {},
   "outputs": [
    {
     "data": {
      "text/plain": [
       "128"
      ]
     },
     "execution_count": 16,
     "metadata": {},
     "output_type": "execute_result"
    }
   ],
   "source": [
    "2 ** 7               # 2 to the power of 7 "
   ]
  },
  {
   "cell_type": "code",
   "execution_count": 1,
   "id": "f95a1644",
   "metadata": {},
   "outputs": [
    {
     "ename": "TypeError",
     "evalue": "unsupported operand type(s) for +: 'float' and 'str'",
     "output_type": "error",
     "traceback": [
      "\u001b[1;31m---------------------------------------------------------------------------\u001b[0m",
      "\u001b[1;31mTypeError\u001b[0m                                 Traceback (most recent call last)",
      "\u001b[1;32mC:\\Users\\PD1D7~1.SUR\\AppData\\Local\\Temp/ipykernel_11692/1389940952.py\u001b[0m in \u001b[0;36m<module>\u001b[1;34m\u001b[0m\n\u001b[0;32m      2\u001b[0m \u001b[0mprice\u001b[0m \u001b[1;33m=\u001b[0m \u001b[1;36m100.50\u001b[0m\u001b[1;33m\u001b[0m\u001b[1;33m\u001b[0m\u001b[0m\n\u001b[0;32m      3\u001b[0m \u001b[0mprice\u001b[0m \u001b[1;33m*\u001b[0m \u001b[0mtax\u001b[0m\u001b[1;33m\u001b[0m\u001b[1;33m\u001b[0m\u001b[0m\n\u001b[1;32m----> 4\u001b[1;33m \u001b[0mprice\u001b[0m \u001b[1;33m+\u001b[0m \u001b[0m_\u001b[0m\u001b[1;33m\u001b[0m\u001b[1;33m\u001b[0m\u001b[0m\n\u001b[0m\u001b[0;32m      5\u001b[0m \u001b[0mround\u001b[0m\u001b[1;33m(\u001b[0m\u001b[0m_\u001b[0m\u001b[1;33m,\u001b[0m\u001b[1;36m2\u001b[0m\u001b[1;33m)\u001b[0m          \u001b[1;31m#In interactive mode, the last printed expression is assigned to the variable _. This means that when you are using Python as a desk calculator, it is somewhat easier to continue calculations\u001b[0m\u001b[1;33m\u001b[0m\u001b[1;33m\u001b[0m\u001b[0m\n",
      "\u001b[1;31mTypeError\u001b[0m: unsupported operand type(s) for +: 'float' and 'str'"
     ]
    }
   ],
   "source": [
    "tax = 12.5 / 100\n",
    "price = 100.50\n",
    "price * tax  \n",
    "price + _\n",
    "round(_,2)          #In interactive mode, the last printed expression is assigned to the variable _. This means that when you are using Python as a desk calculator, it is somewhat easier to continue calculations\n"
   ]
  },
  {
   "cell_type": "code",
   "execution_count": 3,
   "id": "14460da5",
   "metadata": {},
   "outputs": [
    {
     "data": {
      "text/plain": [
       "0.125"
      ]
     },
     "execution_count": 3,
     "metadata": {},
     "output_type": "execute_result"
    }
   ],
   "source": [
    "12.5/100"
   ]
  },
  {
   "cell_type": "code",
   "execution_count": 4,
   "id": "84d2f155",
   "metadata": {},
   "outputs": [
    {
     "data": {
      "text/plain": [
       "900"
      ]
     },
     "execution_count": 4,
     "metadata": {},
     "output_type": "execute_result"
    }
   ],
   "source": [
    "width = 20\n",
    "height = 5 * 9\n",
    "width * height          "
   ]
  },
  {
   "cell_type": "code",
   "execution_count": 11,
   "id": "4e7192b1",
   "metadata": {},
   "outputs": [
    {
     "data": {
      "text/plain": [
       "14.0"
      ]
     },
     "execution_count": 11,
     "metadata": {},
     "output_type": "execute_result"
    }
   ],
   "source": [
    "4 * 3.75 - 1             #There is full support for floating point; operators with mixed type operands convert the integer operand to floating point"
   ]
  },
  {
   "cell_type": "code",
   "execution_count": 12,
   "id": "e9dd70b2",
   "metadata": {},
   "outputs": [
    {
     "data": {
      "text/plain": [
       "1"
      ]
     },
     "execution_count": 12,
     "metadata": {},
     "output_type": "execute_result"
    }
   ],
   "source": [
    "23 % 2                #TO CHECK IF A NUMBER IS EVEN OR ODD (if %2 results in something other than 0 then the number is odd)"
   ]
  },
  {
   "cell_type": "code",
   "execution_count": 13,
   "id": "8c0c822c",
   "metadata": {},
   "outputs": [
    {
     "data": {
      "text/plain": [
       "5.551115123125783e-17"
      ]
     },
     "execution_count": 13,
     "metadata": {},
     "output_type": "execute_result"
    }
   ],
   "source": [
    "0.1+0.2-0.3"
   ]
  },
  {
   "cell_type": "markdown",
   "id": "9067d14c",
   "metadata": {},
   "source": [
    "# Strings"
   ]
  },
  {
   "cell_type": "code",
   "execution_count": 8,
   "id": "38d15cc4",
   "metadata": {},
   "outputs": [
    {
     "data": {
      "text/plain": [
       "'spam eggs'"
      ]
     },
     "execution_count": 8,
     "metadata": {},
     "output_type": "execute_result"
    }
   ],
   "source": [
    "'spam eggs'       # single quotes"
   ]
  },
  {
   "cell_type": "code",
   "execution_count": 9,
   "id": "df3932ab",
   "metadata": {},
   "outputs": [
    {
     "data": {
      "text/plain": [
       "\"doesn't\""
      ]
     },
     "execution_count": 9,
     "metadata": {},
     "output_type": "execute_result"
    }
   ],
   "source": [
    "'doesn\\'t'        # use \\' to escape the single quote..."
   ]
  },
  {
   "cell_type": "code",
   "execution_count": 3,
   "id": "0faa56d6",
   "metadata": {},
   "outputs": [
    {
     "name": "stdout",
     "output_type": "stream",
     "text": [
      "\"Yes!\"they said\n"
     ]
    }
   ],
   "source": [
    "print('\"Yes!\"they said')"
   ]
  },
  {
   "cell_type": "code",
   "execution_count": 2,
   "id": "34a51602",
   "metadata": {},
   "outputs": [
    {
     "data": {
      "text/plain": [
       "'First line.\\nSecond line.'"
      ]
     },
     "execution_count": 2,
     "metadata": {},
     "output_type": "execute_result"
    }
   ],
   "source": [
    "s = 'First line.\\nSecond line.'  # \\n means newline\n",
    "s  # without print(), \\n is included in the output\n"
   ]
  },
  {
   "cell_type": "code",
   "execution_count": 7,
   "id": "496a42fa",
   "metadata": {},
   "outputs": [
    {
     "name": "stdout",
     "output_type": "stream",
     "text": [
      "First line.\n",
      "Second line.\n"
     ]
    }
   ],
   "source": [
    "print(s)  # with print(), \\n produces a new line"
   ]
  },
  {
   "cell_type": "code",
   "execution_count": 8,
   "id": "946e09d4",
   "metadata": {},
   "outputs": [
    {
     "name": "stdout",
     "output_type": "stream",
     "text": [
      "this is a sample \n",
      " message\n"
     ]
    }
   ],
   "source": [
    "print(\"this is a sample \\n message\")"
   ]
  },
  {
   "cell_type": "code",
   "execution_count": 4,
   "id": "de9419c3",
   "metadata": {},
   "outputs": [
    {
     "name": "stdout",
     "output_type": "stream",
     "text": [
      "c:\\some\n",
      "random\n"
     ]
    }
   ],
   "source": [
    "print(\"c:\\some\\nrandom\")  #here \\n means newline "
   ]
  },
  {
   "cell_type": "code",
   "execution_count": 3,
   "id": "5b65f847",
   "metadata": {},
   "outputs": [
    {
     "name": "stdout",
     "output_type": "stream",
     "text": [
      "c:\\some\\nrandom\n"
     ]
    }
   ],
   "source": [
    "print(r\"c:\\some\\nrandom\")  #note r before the quotes  ** used if you dont want \\ to be interpreted as special character "
   ]
  },
  {
   "cell_type": "code",
   "execution_count": 5,
   "id": "f2a0e8aa",
   "metadata": {},
   "outputs": [
    {
     "data": {
      "text/plain": [
       "'unununium'"
      ]
     },
     "execution_count": 5,
     "metadata": {},
     "output_type": "execute_result"
    }
   ],
   "source": [
    "3*\"un\" + \"ium\"     # strings can be concatenated with + and repeated with *"
   ]
  },
  {
   "cell_type": "code",
   "execution_count": 6,
   "id": "428652dc",
   "metadata": {},
   "outputs": [
    {
     "data": {
      "text/plain": [
       "'python'"
      ]
     },
     "execution_count": 6,
     "metadata": {},
     "output_type": "execute_result"
    }
   ],
   "source": [
    "\"py\" \"thon\"  # two or more string literals(i.e enclosed b/w quotes) next to each other are automatically concatenated"
   ]
  },
  {
   "cell_type": "code",
   "execution_count": 15,
   "id": "2b7f0b9e",
   "metadata": {},
   "outputs": [
    {
     "ename": "SyntaxError",
     "evalue": "invalid syntax (Temp/ipykernel_6912/2337816802.py, line 2)",
     "output_type": "error",
     "traceback": [
      "\u001b[1;36m  File \u001b[1;32m\"C:\\Users\\PD1D7~1.SUR\\AppData\\Local\\Temp/ipykernel_6912/2337816802.py\"\u001b[1;36m, line \u001b[1;32m2\u001b[0m\n\u001b[1;33m    prefix \"thon\"    # this works only with strings and not with combnations such as variables and strings & expressions and string\u001b[0m\n\u001b[1;37m           ^\u001b[0m\n\u001b[1;31mSyntaxError\u001b[0m\u001b[1;31m:\u001b[0m invalid syntax\n"
     ]
    }
   ],
   "source": [
    "prefix = \"py\"\n",
    "prefix \"thon\"    # this works only with strings and not with combnations such as variables and strings & expressions and string"
   ]
  },
  {
   "cell_type": "code",
   "execution_count": 8,
   "id": "cd4e5dea",
   "metadata": {},
   "outputs": [
    {
     "ename": "SyntaxError",
     "evalue": "invalid syntax (Temp/ipykernel_6912/2596912302.py, line 1)",
     "output_type": "error",
     "traceback": [
      "\u001b[1;36m  File \u001b[1;32m\"C:\\Users\\PD1D7~1.SUR\\AppData\\Local\\Temp/ipykernel_6912/2596912302.py\"\u001b[1;36m, line \u001b[1;32m1\u001b[0m\n\u001b[1;33m    (\"un\"*3) \"ium\"\u001b[0m\n\u001b[1;37m             ^\u001b[0m\n\u001b[1;31mSyntaxError\u001b[0m\u001b[1;31m:\u001b[0m invalid syntax\n"
     ]
    }
   ],
   "source": [
    "(\"un\"*3) \"ium\"  # expression and string "
   ]
  },
  {
   "cell_type": "code",
   "execution_count": 17,
   "id": "c707c135",
   "metadata": {},
   "outputs": [
    {
     "data": {
      "text/plain": [
       "'python'"
      ]
     },
     "execution_count": 17,
     "metadata": {},
     "output_type": "execute_result"
    }
   ],
   "source": [
    "prefix + \"thon\"   # use + to concatenate variable with a literal "
   ]
  },
  {
   "cell_type": "code",
   "execution_count": 3,
   "id": "6d29b469",
   "metadata": {},
   "outputs": [],
   "source": [
    "word = \"PythoN\"   #indexing starts from 0 for string "
   ]
  },
  {
   "cell_type": "code",
   "execution_count": 7,
   "id": "8f07d9f2",
   "metadata": {},
   "outputs": [
    {
     "data": {
      "text/plain": [
       "'N'"
      ]
     },
     "execution_count": 7,
     "metadata": {},
     "output_type": "execute_result"
    }
   ],
   "source": [
    "word[5]"
   ]
  },
  {
   "cell_type": "code",
   "execution_count": 8,
   "id": "e4a58b14",
   "metadata": {},
   "outputs": [
    {
     "data": {
      "text/plain": [
       "'y'"
      ]
     },
     "execution_count": 8,
     "metadata": {},
     "output_type": "execute_result"
    }
   ],
   "source": [
    "word[1]"
   ]
  },
  {
   "cell_type": "code",
   "execution_count": 9,
   "id": "54ea92d5",
   "metadata": {},
   "outputs": [
    {
     "ename": "TypeError",
     "evalue": "string indices must be integers",
     "output_type": "error",
     "traceback": [
      "\u001b[1;31m---------------------------------------------------------------------------\u001b[0m",
      "\u001b[1;31mTypeError\u001b[0m                                 Traceback (most recent call last)",
      "\u001b[1;32mC:\\Users\\PD1D7~1.SUR\\AppData\\Local\\Temp/ipykernel_13876/1770888439.py\u001b[0m in \u001b[0;36m<module>\u001b[1;34m\u001b[0m\n\u001b[1;32m----> 1\u001b[1;33m \u001b[0mword\u001b[0m\u001b[1;33m[\u001b[0m\u001b[1;36m2\u001b[0m\u001b[1;33m,\u001b[0m\u001b[1;36m3\u001b[0m\u001b[1;33m]\u001b[0m\u001b[1;33m\u001b[0m\u001b[1;33m\u001b[0m\u001b[0m\n\u001b[0m",
      "\u001b[1;31mTypeError\u001b[0m: string indices must be integers"
     ]
    }
   ],
   "source": [
    "word[2,3]"
   ]
  },
  {
   "cell_type": "code",
   "execution_count": 10,
   "id": "e9f2f7f5",
   "metadata": {},
   "outputs": [
    {
     "data": {
      "text/plain": [
       "'t'"
      ]
     },
     "execution_count": 10,
     "metadata": {},
     "output_type": "execute_result"
    }
   ],
   "source": [
    "word[2]"
   ]
  },
  {
   "cell_type": "code",
   "execution_count": 11,
   "id": "28790a1b",
   "metadata": {},
   "outputs": [
    {
     "ename": "IndexError",
     "evalue": "string index out of range",
     "output_type": "error",
     "traceback": [
      "\u001b[1;31m---------------------------------------------------------------------------\u001b[0m",
      "\u001b[1;31mIndexError\u001b[0m                                Traceback (most recent call last)",
      "\u001b[1;32mC:\\Users\\PD1D7~1.SUR\\AppData\\Local\\Temp/ipykernel_13876/1456086124.py\u001b[0m in \u001b[0;36m<module>\u001b[1;34m\u001b[0m\n\u001b[1;32m----> 1\u001b[1;33m \u001b[0mword\u001b[0m\u001b[1;33m[\u001b[0m\u001b[1;36m6\u001b[0m\u001b[1;33m]\u001b[0m\u001b[1;33m\u001b[0m\u001b[1;33m\u001b[0m\u001b[0m\n\u001b[0m",
      "\u001b[1;31mIndexError\u001b[0m: string index out of range"
     ]
    }
   ],
   "source": [
    "word[6]"
   ]
  },
  {
   "cell_type": "code",
   "execution_count": 12,
   "id": "e7a63e4d",
   "metadata": {},
   "outputs": [
    {
     "data": {
      "text/plain": [
       "'P'"
      ]
     },
     "execution_count": 12,
     "metadata": {},
     "output_type": "execute_result"
    }
   ],
   "source": [
    "word[0]"
   ]
  },
  {
   "cell_type": "code",
   "execution_count": 13,
   "id": "ceb6a793",
   "metadata": {},
   "outputs": [
    {
     "ename": "IndexError",
     "evalue": "string index out of range",
     "output_type": "error",
     "traceback": [
      "\u001b[1;31m---------------------------------------------------------------------------\u001b[0m",
      "\u001b[1;31mIndexError\u001b[0m                                Traceback (most recent call last)",
      "\u001b[1;32mC:\\Users\\PD1D7~1.SUR\\AppData\\Local\\Temp/ipykernel_13876/2460542022.py\u001b[0m in \u001b[0;36m<module>\u001b[1;34m\u001b[0m\n\u001b[1;32m----> 1\u001b[1;33m \u001b[0mword\u001b[0m\u001b[1;33m[\u001b[0m\u001b[1;36m7\u001b[0m\u001b[1;33m]\u001b[0m\u001b[1;33m\u001b[0m\u001b[1;33m\u001b[0m\u001b[0m\n\u001b[0m",
      "\u001b[1;31mIndexError\u001b[0m: string index out of range"
     ]
    }
   ],
   "source": [
    "word[7]"
   ]
  },
  {
   "cell_type": "code",
   "execution_count": 14,
   "id": "bc2fd7e5",
   "metadata": {},
   "outputs": [
    {
     "data": {
      "text/plain": [
       "'N'"
      ]
     },
     "execution_count": 14,
     "metadata": {},
     "output_type": "execute_result"
    }
   ],
   "source": [
    "word[-1]"
   ]
  },
  {
   "cell_type": "code",
   "execution_count": 15,
   "id": "e5ce0e9f",
   "metadata": {},
   "outputs": [
    {
     "data": {
      "text/plain": [
       "'P'"
      ]
     },
     "execution_count": 15,
     "metadata": {},
     "output_type": "execute_result"
    }
   ],
   "source": [
    "word[-6]"
   ]
  },
  {
   "cell_type": "code",
   "execution_count": 16,
   "id": "0f5c04a1",
   "metadata": {},
   "outputs": [
    {
     "ename": "IndexError",
     "evalue": "string index out of range",
     "output_type": "error",
     "traceback": [
      "\u001b[1;31m---------------------------------------------------------------------------\u001b[0m",
      "\u001b[1;31mIndexError\u001b[0m                                Traceback (most recent call last)",
      "\u001b[1;32mC:\\Users\\PD1D7~1.SUR\\AppData\\Local\\Temp/ipykernel_13876/3612666644.py\u001b[0m in \u001b[0;36m<module>\u001b[1;34m\u001b[0m\n\u001b[1;32m----> 1\u001b[1;33m \u001b[0mword\u001b[0m\u001b[1;33m[\u001b[0m\u001b[1;33m-\u001b[0m\u001b[1;36m7\u001b[0m\u001b[1;33m]\u001b[0m\u001b[1;33m\u001b[0m\u001b[1;33m\u001b[0m\u001b[0m\n\u001b[0m",
      "\u001b[1;31mIndexError\u001b[0m: string index out of range"
     ]
    }
   ],
   "source": [
    "word[-7]"
   ]
  },
  {
   "cell_type": "code",
   "execution_count": 17,
   "id": "3d29facd",
   "metadata": {},
   "outputs": [
    {
     "data": {
      "text/plain": [
       "'P'"
      ]
     },
     "execution_count": 17,
     "metadata": {},
     "output_type": "execute_result"
    }
   ],
   "source": [
    "word[0]"
   ]
  },
  {
   "cell_type": "code",
   "execution_count": 18,
   "id": "b3f2cded",
   "metadata": {},
   "outputs": [
    {
     "data": {
      "text/plain": [
       "'Pytho'"
      ]
     },
     "execution_count": 18,
     "metadata": {},
     "output_type": "execute_result"
    }
   ],
   "source": [
    "word[0:5]    #slicing  # characters from position 0 (included) to 5 (excluded)"
   ]
  },
  {
   "cell_type": "code",
   "execution_count": 21,
   "id": "1b7f1810",
   "metadata": {},
   "outputs": [
    {
     "data": {
      "text/plain": [
       "'tho'"
      ]
     },
     "execution_count": 21,
     "metadata": {},
     "output_type": "execute_result"
    }
   ],
   "source": [
    "word[2:5]     # characters from position 2 (included) to 5 (excluded)"
   ]
  },
  {
   "cell_type": "code",
   "execution_count": 25,
   "id": "24f54a12",
   "metadata": {},
   "outputs": [],
   "source": [
    "#Slice indices have useful defaults; an omitted first index defaults to zero, an omitted second index defaults to the size \n",
    "#of the string being sliced"
   ]
  },
  {
   "cell_type": "code",
   "execution_count": 26,
   "id": "de3287c3",
   "metadata": {},
   "outputs": [
    {
     "data": {
      "text/plain": [
       "'Pyt'"
      ]
     },
     "execution_count": 26,
     "metadata": {},
     "output_type": "execute_result"
    }
   ],
   "source": [
    "word[:3]"
   ]
  },
  {
   "cell_type": "code",
   "execution_count": 27,
   "id": "dd2e9304",
   "metadata": {},
   "outputs": [
    {
     "data": {
      "text/plain": [
       "'ythoN'"
      ]
     },
     "execution_count": 27,
     "metadata": {},
     "output_type": "execute_result"
    }
   ],
   "source": [
    "word[1:]"
   ]
  },
  {
   "cell_type": "code",
   "execution_count": 28,
   "id": "66d8a58c",
   "metadata": {},
   "outputs": [
    {
     "data": {
      "text/plain": [
       "'hoN'"
      ]
     },
     "execution_count": 28,
     "metadata": {},
     "output_type": "execute_result"
    }
   ],
   "source": [
    "word[-3:]"
   ]
  },
  {
   "cell_type": "code",
   "execution_count": 29,
   "id": "b7f74d69",
   "metadata": {},
   "outputs": [],
   "source": [
    "#Note how the start is always included, and the end always excluded.\n",
    "#This makes sure that s[:i] + s[i:] is always equal to s"
   ]
  },
  {
   "cell_type": "code",
   "execution_count": 30,
   "id": "11989d2b",
   "metadata": {},
   "outputs": [
    {
     "data": {
      "text/plain": [
       "'PythoN'"
      ]
     },
     "execution_count": 30,
     "metadata": {},
     "output_type": "execute_result"
    }
   ],
   "source": [
    "word[:2] + word[2:]"
   ]
  },
  {
   "cell_type": "code",
   "execution_count": 31,
   "id": "89b51fd5",
   "metadata": {},
   "outputs": [
    {
     "data": {
      "text/plain": [
       "'PythoN'"
      ]
     },
     "execution_count": 31,
     "metadata": {},
     "output_type": "execute_result"
    }
   ],
   "source": [
    "word[:4] + word[4:]"
   ]
  },
  {
   "cell_type": "code",
   "execution_count": 32,
   "id": "6a2bf781",
   "metadata": {},
   "outputs": [],
   "source": [
    "# Attempting to use an index that is too large will result in an error"
   ]
  },
  {
   "cell_type": "code",
   "execution_count": 33,
   "id": "a08895a9",
   "metadata": {},
   "outputs": [
    {
     "ename": "IndexError",
     "evalue": "string index out of range",
     "output_type": "error",
     "traceback": [
      "\u001b[1;31m---------------------------------------------------------------------------\u001b[0m",
      "\u001b[1;31mIndexError\u001b[0m                                Traceback (most recent call last)",
      "\u001b[1;32mC:\\Users\\PD1D7~1.SUR\\AppData\\Local\\Temp/ipykernel_13876/2456105650.py\u001b[0m in \u001b[0;36m<module>\u001b[1;34m\u001b[0m\n\u001b[1;32m----> 1\u001b[1;33m \u001b[0mword\u001b[0m\u001b[1;33m[\u001b[0m\u001b[1;36m80\u001b[0m\u001b[1;33m]\u001b[0m\u001b[1;33m\u001b[0m\u001b[1;33m\u001b[0m\u001b[0m\n\u001b[0m",
      "\u001b[1;31mIndexError\u001b[0m: string index out of range"
     ]
    }
   ],
   "source": [
    "word[80]"
   ]
  },
  {
   "cell_type": "code",
   "execution_count": 34,
   "id": "cc9061cc",
   "metadata": {},
   "outputs": [],
   "source": [
    "#However, out of range slice indexes are handled gracefully when used for slicing"
   ]
  },
  {
   "cell_type": "code",
   "execution_count": 35,
   "id": "2e66d4d1",
   "metadata": {},
   "outputs": [
    {
     "data": {
      "text/plain": [
       "'oN'"
      ]
     },
     "execution_count": 35,
     "metadata": {},
     "output_type": "execute_result"
    }
   ],
   "source": [
    "word[4:42]"
   ]
  },
  {
   "cell_type": "code",
   "execution_count": 36,
   "id": "aa81fb34",
   "metadata": {},
   "outputs": [
    {
     "data": {
      "text/plain": [
       "'PythoN'"
      ]
     },
     "execution_count": 36,
     "metadata": {},
     "output_type": "execute_result"
    }
   ],
   "source": [
    "word[:42]"
   ]
  },
  {
   "cell_type": "code",
   "execution_count": 37,
   "id": "154196de",
   "metadata": {},
   "outputs": [
    {
     "data": {
      "text/plain": [
       "''"
      ]
     },
     "execution_count": 37,
     "metadata": {},
     "output_type": "execute_result"
    }
   ],
   "source": [
    "word[42:]"
   ]
  },
  {
   "cell_type": "code",
   "execution_count": 38,
   "id": "f322db0b",
   "metadata": {},
   "outputs": [],
   "source": [
    "#Python strings cannot be changed — they are immutable. \n",
    "#Therefore, assigning to an indexed position in the string results in an error"
   ]
  },
  {
   "cell_type": "code",
   "execution_count": 15,
   "id": "c08964d2",
   "metadata": {},
   "outputs": [
    {
     "ename": "NameError",
     "evalue": "name 'word' is not defined",
     "output_type": "error",
     "traceback": [
      "\u001b[1;31m---------------------------------------------------------------------------\u001b[0m",
      "\u001b[1;31mNameError\u001b[0m                                 Traceback (most recent call last)",
      "\u001b[1;32mC:\\Users\\PD1D7~1.SUR\\AppData\\Local\\Temp/ipykernel_3404/2083011681.py\u001b[0m in \u001b[0;36m<module>\u001b[1;34m\u001b[0m\n\u001b[1;32m----> 1\u001b[1;33m \u001b[0mword\u001b[0m\u001b[1;33m[\u001b[0m\u001b[1;36m0\u001b[0m\u001b[1;33m]\u001b[0m\u001b[1;33m=\u001b[0m\u001b[1;34m'K'\u001b[0m\u001b[1;33m\u001b[0m\u001b[1;33m\u001b[0m\u001b[0m\n\u001b[0m",
      "\u001b[1;31mNameError\u001b[0m: name 'word' is not defined"
     ]
    }
   ],
   "source": [
    "word[0]='K'"
   ]
  },
  {
   "cell_type": "code",
   "execution_count": 40,
   "id": "09bebb7a",
   "metadata": {},
   "outputs": [
    {
     "ename": "TypeError",
     "evalue": "'str' object does not support item assignment",
     "output_type": "error",
     "traceback": [
      "\u001b[1;31m---------------------------------------------------------------------------\u001b[0m",
      "\u001b[1;31mTypeError\u001b[0m                                 Traceback (most recent call last)",
      "\u001b[1;32mC:\\Users\\PD1D7~1.SUR\\AppData\\Local\\Temp/ipykernel_13876/739364108.py\u001b[0m in \u001b[0;36m<module>\u001b[1;34m\u001b[0m\n\u001b[1;32m----> 1\u001b[1;33m \u001b[0mword\u001b[0m\u001b[1;33m[\u001b[0m\u001b[1;36m2\u001b[0m\u001b[1;33m:\u001b[0m\u001b[1;33m]\u001b[0m\u001b[1;33m=\u001b[0m\u001b[1;34m\"py\"\u001b[0m\u001b[1;33m\u001b[0m\u001b[1;33m\u001b[0m\u001b[0m\n\u001b[0m",
      "\u001b[1;31mTypeError\u001b[0m: 'str' object does not support item assignment"
     ]
    }
   ],
   "source": [
    "word[2:]=\"py\""
   ]
  },
  {
   "cell_type": "code",
   "execution_count": 41,
   "id": "a1fa40ff",
   "metadata": {},
   "outputs": [],
   "source": [
    "#If you need a different string, you should create a new one"
   ]
  },
  {
   "cell_type": "code",
   "execution_count": 42,
   "id": "6d926671",
   "metadata": {},
   "outputs": [
    {
     "data": {
      "text/plain": [
       "'JythoN'"
      ]
     },
     "execution_count": 42,
     "metadata": {},
     "output_type": "execute_result"
    }
   ],
   "source": [
    "'J'+word[1:]"
   ]
  },
  {
   "cell_type": "code",
   "execution_count": 43,
   "id": "202c4734",
   "metadata": {},
   "outputs": [
    {
     "data": {
      "text/plain": [
       "'PythoN'"
      ]
     },
     "execution_count": 43,
     "metadata": {},
     "output_type": "execute_result"
    }
   ],
   "source": [
    "word"
   ]
  },
  {
   "cell_type": "code",
   "execution_count": 44,
   "id": "79199729",
   "metadata": {},
   "outputs": [
    {
     "data": {
      "text/plain": [
       "'Pypy'"
      ]
     },
     "execution_count": 44,
     "metadata": {},
     "output_type": "execute_result"
    }
   ],
   "source": [
    "word[:2]+\"py\""
   ]
  },
  {
   "cell_type": "code",
   "execution_count": 45,
   "id": "39da4df3",
   "metadata": {},
   "outputs": [
    {
     "data": {
      "text/plain": [
       "6"
      ]
     },
     "execution_count": 45,
     "metadata": {},
     "output_type": "execute_result"
    }
   ],
   "source": [
    "len(word)"
   ]
  },
  {
   "cell_type": "code",
   "execution_count": 46,
   "id": "237792d0",
   "metadata": {},
   "outputs": [
    {
     "data": {
      "text/plain": [
       "str"
      ]
     },
     "execution_count": 46,
     "metadata": {},
     "output_type": "execute_result"
    }
   ],
   "source": [
    "type(word)"
   ]
  },
  {
   "cell_type": "code",
   "execution_count": 4,
   "id": "2ffe0afb",
   "metadata": {},
   "outputs": [
    {
     "data": {
      "text/plain": [
       "\"'PythoN'\""
      ]
     },
     "execution_count": 4,
     "metadata": {},
     "output_type": "execute_result"
    }
   ],
   "source": [
    "repr(word)"
   ]
  },
  {
   "cell_type": "code",
   "execution_count": 5,
   "id": "bd669407",
   "metadata": {},
   "outputs": [
    {
     "data": {
      "text/plain": [
       "'PythoN'"
      ]
     },
     "execution_count": 5,
     "metadata": {},
     "output_type": "execute_result"
    }
   ],
   "source": [
    "word"
   ]
  },
  {
   "cell_type": "code",
   "execution_count": 3,
   "id": "6907006f",
   "metadata": {},
   "outputs": [],
   "source": [
    "my_string = \"this is for testing\""
   ]
  },
  {
   "cell_type": "code",
   "execution_count": 6,
   "id": "7c4da024",
   "metadata": {},
   "outputs": [
    {
     "data": {
      "text/plain": [
       "'is i'"
      ]
     },
     "execution_count": 6,
     "metadata": {},
     "output_type": "execute_result"
    }
   ],
   "source": [
    "my_string[2:6]"
   ]
  },
  {
   "cell_type": "code",
   "execution_count": 10,
   "id": "f6657687",
   "metadata": {},
   "outputs": [
    {
     "data": {
      "text/plain": [
       "'g'"
      ]
     },
     "execution_count": 10,
     "metadata": {},
     "output_type": "execute_result"
    }
   ],
   "source": [
    "my_string[-1]"
   ]
  },
  {
   "cell_type": "code",
   "execution_count": 11,
   "id": "101e3e6e",
   "metadata": {},
   "outputs": [
    {
     "data": {
      "text/plain": [
       "'is is for testing'"
      ]
     },
     "execution_count": 11,
     "metadata": {},
     "output_type": "execute_result"
    }
   ],
   "source": [
    "my_string[2:]"
   ]
  },
  {
   "cell_type": "code",
   "execution_count": 12,
   "id": "a2da0d82",
   "metadata": {},
   "outputs": [
    {
     "data": {
      "text/plain": [
       "'this i'"
      ]
     },
     "execution_count": 12,
     "metadata": {},
     "output_type": "execute_result"
    }
   ],
   "source": [
    "my_string[:6]"
   ]
  },
  {
   "cell_type": "code",
   "execution_count": 13,
   "id": "49f2329f",
   "metadata": {},
   "outputs": [
    {
     "data": {
      "text/plain": [
       "'gnitset rof si siht'"
      ]
     },
     "execution_count": 13,
     "metadata": {},
     "output_type": "execute_result"
    }
   ],
   "source": [
    "my_string[::-1]                                   #reverse a string "
   ]
  },
  {
   "cell_type": "code",
   "execution_count": 1,
   "id": "5da62ce1",
   "metadata": {},
   "outputs": [],
   "source": [
    "Result = \"Python is beautiful\""
   ]
  },
  {
   "cell_type": "code",
   "execution_count": 17,
   "id": "3ade881c",
   "metadata": {},
   "outputs": [
    {
     "data": {
      "text/plain": [
       "'Python is beautifulPython is beautifulPython is beautiful'"
      ]
     },
     "execution_count": 17,
     "metadata": {},
     "output_type": "execute_result"
    }
   ],
   "source": [
    "Result * 3"
   ]
  },
  {
   "cell_type": "code",
   "execution_count": 2,
   "id": "0a4238e6",
   "metadata": {},
   "outputs": [],
   "source": [
    "X = Result.upper()"
   ]
  },
  {
   "cell_type": "code",
   "execution_count": 3,
   "id": "1a2b9963",
   "metadata": {},
   "outputs": [
    {
     "data": {
      "text/plain": [
       "'PYTHON IS BEAUTIFUL'"
      ]
     },
     "execution_count": 3,
     "metadata": {},
     "output_type": "execute_result"
    }
   ],
   "source": [
    "X"
   ]
  },
  {
   "cell_type": "code",
   "execution_count": 4,
   "id": "2cfc419e",
   "metadata": {},
   "outputs": [
    {
     "data": {
      "text/plain": [
       "['PYTHON', 'IS', 'BEAUTIFUL']"
      ]
     },
     "execution_count": 4,
     "metadata": {},
     "output_type": "execute_result"
    }
   ],
   "source": [
    "X.split()"
   ]
  },
  {
   "cell_type": "code",
   "execution_count": 7,
   "id": "c37de16d",
   "metadata": {},
   "outputs": [
    {
     "data": {
      "text/plain": [
       "['PYTHON ', 'S BEAUT', 'FUL']"
      ]
     },
     "execution_count": 7,
     "metadata": {},
     "output_type": "execute_result"
    }
   ],
   "source": [
    "X.split(\"I\")"
   ]
  },
  {
   "cell_type": "code",
   "execution_count": 8,
   "id": "32b25a53",
   "metadata": {},
   "outputs": [],
   "source": [
    "#  print formatting with strings "
   ]
  },
  {
   "cell_type": "code",
   "execution_count": 9,
   "id": "44f23072",
   "metadata": {},
   "outputs": [
    {
     "name": "stdout",
     "output_type": "stream",
     "text": [
      "This string is INSERTED\n"
     ]
    }
   ],
   "source": [
    "print(\"This string is {}\".format(\"INSERTED\"))"
   ]
  },
  {
   "cell_type": "code",
   "execution_count": 11,
   "id": "568b0082",
   "metadata": {},
   "outputs": [
    {
     "name": "stdout",
     "output_type": "stream",
     "text": [
      "The Fox Brown Quick\n"
     ]
    }
   ],
   "source": [
    "print(\"The {} {} {}\".format(\"Fox\", \"Brown\" ,\"Quick\"))"
   ]
  },
  {
   "cell_type": "code",
   "execution_count": 12,
   "id": "98dbbf0e",
   "metadata": {},
   "outputs": [
    {
     "name": "stdout",
     "output_type": "stream",
     "text": [
      "The Quick Brown Fox\n"
     ]
    }
   ],
   "source": [
    "print(\"The {2} {1} {0}\".format(\"Fox\", \"Brown\" ,\"Quick\"))"
   ]
  },
  {
   "cell_type": "code",
   "execution_count": 18,
   "id": "76355cf5",
   "metadata": {},
   "outputs": [
    {
     "name": "stdout",
     "output_type": "stream",
     "text": [
      "The Variable assisgment works this way in formatting\n"
     ]
    }
   ],
   "source": [
    "print(\"The Variable assisgment works this {b} {a} {c}\".format(a='in', b='way', c='formatting'))"
   ]
  },
  {
   "cell_type": "code",
   "execution_count": 20,
   "id": "d617d200",
   "metadata": {},
   "outputs": [],
   "source": [
    "result = 200/500"
   ]
  },
  {
   "cell_type": "code",
   "execution_count": 21,
   "id": "b90c0ea6",
   "metadata": {},
   "outputs": [
    {
     "data": {
      "text/plain": [
       "0.4"
      ]
     },
     "execution_count": 21,
     "metadata": {},
     "output_type": "execute_result"
    }
   ],
   "source": [
    "result"
   ]
  },
  {
   "cell_type": "code",
   "execution_count": 25,
   "id": "8e8789bb",
   "metadata": {},
   "outputs": [
    {
     "name": "stdout",
     "output_type": "stream",
     "text": [
      "The result is 0.4\n"
     ]
    }
   ],
   "source": [
    "print(\"The result is {}\".format(result))"
   ]
  },
  {
   "cell_type": "code",
   "execution_count": 26,
   "id": "75780d7e",
   "metadata": {},
   "outputs": [],
   "source": [
    "interest = 200/1000"
   ]
  },
  {
   "cell_type": "code",
   "execution_count": 27,
   "id": "88ef6112",
   "metadata": {},
   "outputs": [
    {
     "data": {
      "text/plain": [
       "0.2"
      ]
     },
     "execution_count": 27,
     "metadata": {},
     "output_type": "execute_result"
    }
   ],
   "source": [
    "interest"
   ]
  },
  {
   "cell_type": "code",
   "execution_count": 28,
   "id": "d9156e91",
   "metadata": {},
   "outputs": [
    {
     "name": "stdout",
     "output_type": "stream",
     "text": [
      "the interest charged on the loan is 0.2\n"
     ]
    }
   ],
   "source": [
    "print (\"the interest charged on the loan is {}\".format(interest))"
   ]
  },
  {
   "cell_type": "code",
   "execution_count": null,
   "id": "76ff871a",
   "metadata": {},
   "outputs": [],
   "source": [
    "# Float formatting "
   ]
  },
  {
   "cell_type": "code",
   "execution_count": null,
   "id": "f28f92a7",
   "metadata": {},
   "outputs": [],
   "source": [
    "# float formatting follows \"{value:width.precision f}\""
   ]
  },
  {
   "cell_type": "code",
   "execution_count": 29,
   "id": "4bd26224",
   "metadata": {},
   "outputs": [],
   "source": [
    "result = 10.7896543"
   ]
  },
  {
   "cell_type": "code",
   "execution_count": 33,
   "id": "bd80ab32",
   "metadata": {},
   "outputs": [
    {
     "name": "stdout",
     "output_type": "stream",
     "text": [
      "the result was     10.790\n"
     ]
    }
   ],
   "source": [
    "print(\"the result was {r:10.3f}\".format(r=result))                 #here the 10 represent spaces , 3 represents up until which decimal the result needs to be displayed"
   ]
  },
  {
   "cell_type": "code",
   "execution_count": 38,
   "id": "0134310c",
   "metadata": {},
   "outputs": [],
   "source": [
    "price = 20000.78* 2.3987"
   ]
  },
  {
   "cell_type": "code",
   "execution_count": 39,
   "id": "028fffce",
   "metadata": {},
   "outputs": [
    {
     "data": {
      "text/plain": [
       "47975.870985999994"
      ]
     },
     "execution_count": 39,
     "metadata": {},
     "output_type": "execute_result"
    }
   ],
   "source": [
    "price"
   ]
  },
  {
   "cell_type": "code",
   "execution_count": 41,
   "id": "e1ffa0d5",
   "metadata": {},
   "outputs": [
    {
     "name": "stdout",
     "output_type": "stream",
     "text": [
      "the price of the sofa is 47975.870986\n"
     ]
    }
   ],
   "source": [
    "print(\"the price of the sofa is {p:1.6f}\".format(p=price))"
   ]
  },
  {
   "cell_type": "code",
   "execution_count": null,
   "id": "88243627",
   "metadata": {},
   "outputs": [],
   "source": [
    "# string literals"
   ]
  },
  {
   "cell_type": "code",
   "execution_count": 42,
   "id": "c616ece5",
   "metadata": {},
   "outputs": [],
   "source": [
    "name = \"zayn malik\""
   ]
  },
  {
   "cell_type": "code",
   "execution_count": 43,
   "id": "f975f0b4",
   "metadata": {},
   "outputs": [
    {
     "name": "stdout",
     "output_type": "stream",
     "text": [
      "I love zayn malik\n"
     ]
    }
   ],
   "source": [
    "print(f\"I love {name}\")"
   ]
  },
  {
   "cell_type": "code",
   "execution_count": 44,
   "id": "043ced77",
   "metadata": {},
   "outputs": [],
   "source": [
    "name = \"Sam\""
   ]
  },
  {
   "cell_type": "code",
   "execution_count": 45,
   "id": "05745d9a",
   "metadata": {},
   "outputs": [],
   "source": [
    "age = \"8\""
   ]
  },
  {
   "cell_type": "code",
   "execution_count": 46,
   "id": "ee53885c",
   "metadata": {},
   "outputs": [
    {
     "name": "stdout",
     "output_type": "stream",
     "text": [
      "Sam is 8years old\n"
     ]
    }
   ],
   "source": [
    "print(f\"{name} is {age} years old\")"
   ]
  },
  {
   "cell_type": "code",
   "execution_count": null,
   "id": "e543b3bb",
   "metadata": {},
   "outputs": [],
   "source": [
    "# Formatting with placeholders"
   ]
  },
  {
   "cell_type": "code",
   "execution_count": 5,
   "id": "9aee96a7",
   "metadata": {},
   "outputs": [
    {
     "name": "stdout",
     "output_type": "stream",
     "text": [
      "i'm going to inject something here\n"
     ]
    }
   ],
   "source": [
    "print(\"i'm going to inject %s here\" % \"something\")"
   ]
  },
  {
   "cell_type": "code",
   "execution_count": 7,
   "id": "64715915",
   "metadata": {},
   "outputs": [
    {
     "name": "stdout",
     "output_type": "stream",
     "text": [
      "I'm going to inject some here, and more text here\n"
     ]
    }
   ],
   "source": [
    "print(\"I'm going to inject %s here, and %s text here\" %(\"some\", \"more\"))"
   ]
  },
  {
   "cell_type": "code",
   "execution_count": 8,
   "id": "4d2bf4ea",
   "metadata": {},
   "outputs": [],
   "source": [
    "x, y = \"some\" , \"more\""
   ]
  },
  {
   "cell_type": "code",
   "execution_count": 14,
   "id": "dd6acd24",
   "metadata": {},
   "outputs": [
    {
     "name": "stdout",
     "output_type": "stream",
     "text": [
      "I'm going to insert some here, some more text here\n"
     ]
    }
   ],
   "source": [
    "print(\"I'm going to insert %s here, some %s text here\"%(x,y))"
   ]
  },
  {
   "cell_type": "code",
   "execution_count": null,
   "id": "9f614a50",
   "metadata": {},
   "outputs": [],
   "source": [
    "# format conversion methods"
   ]
  },
  {
   "cell_type": "code",
   "execution_count": null,
   "id": "2a11f0d8",
   "metadata": {},
   "outputs": [],
   "source": [
    "#It should be noted that two methods %s and %r convert any python object to a string using two separate methods:str()& repr(). \n",
    "# %r and repr() deliver the string representation of the object, including quotation marks and any escape characters"
   ]
  },
  {
   "cell_type": "code",
   "execution_count": 15,
   "id": "7618cde0",
   "metadata": {},
   "outputs": [
    {
     "name": "stdout",
     "output_type": "stream",
     "text": [
      "he sais his name is fred\n"
     ]
    }
   ],
   "source": [
    "print(\"he sais his name is %s\" % \"fred\")"
   ]
  },
  {
   "cell_type": "code",
   "execution_count": 17,
   "id": "9ba2d851",
   "metadata": {},
   "outputs": [
    {
     "name": "stdout",
     "output_type": "stream",
     "text": [
      "he said his name is 'fred'\n"
     ]
    }
   ],
   "source": [
    "print (\"he said his name is %r\" %'fred')"
   ]
  },
  {
   "cell_type": "code",
   "execution_count": 23,
   "id": "34f2a0c5",
   "metadata": {},
   "outputs": [
    {
     "name": "stdout",
     "output_type": "stream",
     "text": [
      " I once caught a fish this \tbig\n"
     ]
    }
   ],
   "source": [
    "print (\" I once caught a fish %s\" %(\"this \\tbig\"))"
   ]
  },
  {
   "cell_type": "code",
   "execution_count": 24,
   "id": "e2e87e36",
   "metadata": {},
   "outputs": [
    {
     "name": "stdout",
     "output_type": "stream",
     "text": [
      " I once caught a fish 'this \\tbig'\n"
     ]
    }
   ],
   "source": [
    "print (\" I once caught a fish %r\" %(\"this \\tbig\"))"
   ]
  },
  {
   "cell_type": "code",
   "execution_count": null,
   "id": "c6ea6ed3",
   "metadata": {},
   "outputs": [],
   "source": [
    "#The %s operator converts whatever it sees into a string, including integers and floats. \n",
    "#The %d operator converts numbers to integers first, without rounding. Note the difference below"
   ]
  },
  {
   "cell_type": "code",
   "execution_count": 26,
   "id": "bf723a43",
   "metadata": {},
   "outputs": [
    {
     "name": "stdout",
     "output_type": "stream",
     "text": [
      " I wrote a 3.75 program today\n"
     ]
    }
   ],
   "source": [
    "print(\" I wrote a %s program today\"%3.75)"
   ]
  },
  {
   "cell_type": "code",
   "execution_count": 27,
   "id": "85414d97",
   "metadata": {},
   "outputs": [
    {
     "name": "stdout",
     "output_type": "stream",
     "text": [
      " I wrote a 3 program today\n"
     ]
    }
   ],
   "source": [
    "print (\" I wrote a %d program today\" %3.75)"
   ]
  },
  {
   "cell_type": "code",
   "execution_count": null,
   "id": "496e936d",
   "metadata": {},
   "outputs": [],
   "source": [
    "# Padding and Precision of Floating Point Numbers"
   ]
  },
  {
   "cell_type": "code",
   "execution_count": null,
   "id": "56968c1c",
   "metadata": {},
   "outputs": [],
   "source": [
    "# Floating point numbers use the format %5.2f. Here, 5 would be the minimum number of characters the string should contain;\n",
    "# these may be padded with whitespace if the entire number does not have this many digits.\n",
    "# Next to this, .2f stands for how many numbers to show past the decimal point"
   ]
  },
  {
   "cell_type": "code",
   "execution_count": 28,
   "id": "b4f86f0f",
   "metadata": {},
   "outputs": [
    {
     "name": "stdout",
     "output_type": "stream",
     "text": [
      "Floating point number : 13.35\n"
     ]
    }
   ],
   "source": [
    "print(\"Floating point number : %5.2f\" %13.34567)"
   ]
  },
  {
   "cell_type": "code",
   "execution_count": 29,
   "id": "37b82861",
   "metadata": {},
   "outputs": [
    {
     "name": "stdout",
     "output_type": "stream",
     "text": [
      "Floating point numbers: 13\n"
     ]
    }
   ],
   "source": [
    "print('Floating point numbers: %1.0f' %(13.144))"
   ]
  },
  {
   "cell_type": "code",
   "execution_count": 31,
   "id": "93379434",
   "metadata": {},
   "outputs": [
    {
     "name": "stdout",
     "output_type": "stream",
     "text": [
      "First: Hi!, Second:                   3.1457 Third: 'bye!'\n"
     ]
    }
   ],
   "source": [
    "print(\"First: %s, Second: %24.4f Third: %r\" %('Hi!', 3.1456788 , 'bye!'))"
   ]
  },
  {
   "cell_type": "code",
   "execution_count": null,
   "id": "5fb6d6c5",
   "metadata": {},
   "outputs": [],
   "source": [
    "Alignment, padding and precision with .format()"
   ]
  },
  {
   "cell_type": "code",
   "execution_count": 33,
   "id": "f615640d",
   "metadata": {},
   "outputs": [
    {
     "name": "stdout",
     "output_type": "stream",
     "text": [
      "Fruit    | Quantity \n"
     ]
    }
   ],
   "source": [
    "print('{0:8} | {1:9}'.format('Fruit', 'Quantity'))"
   ]
  },
  {
   "cell_type": "code",
   "execution_count": 36,
   "id": "7cd4c4a6",
   "metadata": {},
   "outputs": [
    {
     "name": "stdout",
     "output_type": "stream",
     "text": [
      "Fruit    | Quantity \n",
      "Apples   |       3.0\n",
      "Oranges  |        10\n"
     ]
    }
   ],
   "source": [
    "print('{0:8} | {1:9}'.format('Fruit', 'Quantity'))\n",
    "print('{0:8} | {1:9}'.format('Apples', 3.))\n",
    "print('{0:8} | {1:9}'.format('Oranges', 10))"
   ]
  },
  {
   "cell_type": "code",
   "execution_count": null,
   "id": "ef42ee3b",
   "metadata": {},
   "outputs": [],
   "source": [
    "# By default, .format() aligns text to the left, numbers to the right. \n",
    "# You can pass an optional <,^, or > to set a left, center or right alignment"
   ]
  },
  {
   "cell_type": "code",
   "execution_count": 40,
   "id": "61380049",
   "metadata": {},
   "outputs": [
    {
     "name": "stdout",
     "output_type": "stream",
     "text": [
      "Left     |  Center  |    Right\n",
      "11       |    22    |       33\n"
     ]
    }
   ],
   "source": [
    "print('{0:<8} | {1:^8} | {2:>8}'.format(\"Left\", \"Center\" , \"Right\"))\n",
    "print('{0:<8} | {1:^8} | {2:>8}'.format(11,22,33))"
   ]
  },
  {
   "cell_type": "code",
   "execution_count": 41,
   "id": "5a2560e1",
   "metadata": {},
   "outputs": [],
   "source": [
    "# You can precede the aligment operator with a padding character"
   ]
  },
  {
   "cell_type": "code",
   "execution_count": 42,
   "id": "9376c3b1",
   "metadata": {},
   "outputs": [
    {
     "name": "stdout",
     "output_type": "stream",
     "text": [
      "Left==== | -Center- | ...Right\n",
      "11====== | ---22--- | ......33\n"
     ]
    }
   ],
   "source": [
    "print('{0:=<8} | {1:-^8} | {2:.>8}'.format('Left','Center','Right'))\n",
    "print('{0:=<8} | {1:-^8} | {2:.>8}'.format(11,22,33))"
   ]
  },
  {
   "cell_type": "code",
   "execution_count": null,
   "id": "a339907e",
   "metadata": {},
   "outputs": [],
   "source": [
    "#Field widths and float precision are handled in a way similar to placeholders. T\n",
    "# The following two print statements are equivalent:"
   ]
  },
  {
   "cell_type": "code",
   "execution_count": 43,
   "id": "1e7bbfde",
   "metadata": {},
   "outputs": [
    {
     "name": "stdout",
     "output_type": "stream",
     "text": [
      "This is my ten-character, two-decimal number:     13.58\n",
      "This is my ten-character, two-decimal number:     13.58\n"
     ]
    }
   ],
   "source": [
    "print('This is my ten-character, two-decimal number:%10.2f' %13.579)\n",
    "print('This is my ten-character, two-decimal number:{0:10.2f}'.format(13.579))"
   ]
  },
  {
   "cell_type": "markdown",
   "id": "c9da3718",
   "metadata": {},
   "source": [
    "# Built-in Types  "
   ]
  },
  {
   "cell_type": "code",
   "execution_count": 2,
   "id": "73befe6f",
   "metadata": {},
   "outputs": [],
   "source": [
    "##  https://docs.python.org/3/library/stdtypes.html#textseq"
   ]
  },
  {
   "cell_type": "code",
   "execution_count": 3,
   "id": "fe957219",
   "metadata": {},
   "outputs": [
    {
     "data": {
      "text/plain": [
       "0"
      ]
     },
     "execution_count": 3,
     "metadata": {},
     "output_type": "execute_result"
    }
   ],
   "source": [
    "1//2"
   ]
  },
  {
   "cell_type": "code",
   "execution_count": 5,
   "id": "21cb5cc2",
   "metadata": {},
   "outputs": [],
   "source": [
    "b=(-1)//2"
   ]
  },
  {
   "cell_type": "code",
   "execution_count": 6,
   "id": "8ca88177",
   "metadata": {},
   "outputs": [
    {
     "data": {
      "text/plain": [
       "int"
      ]
     },
     "execution_count": 6,
     "metadata": {},
     "output_type": "execute_result"
    }
   ],
   "source": [
    "type(b)"
   ]
  },
  {
   "cell_type": "code",
   "execution_count": 8,
   "id": "7b6ee778",
   "metadata": {},
   "outputs": [
    {
     "data": {
      "text/plain": [
       "-1"
      ]
     },
     "execution_count": 8,
     "metadata": {},
     "output_type": "execute_result"
    }
   ],
   "source": [
    "c=1//(-2)\n",
    "c"
   ]
  },
  {
   "cell_type": "code",
   "execution_count": 9,
   "id": "fd49ab24",
   "metadata": {},
   "outputs": [
    {
     "data": {
      "text/plain": [
       "int"
      ]
     },
     "execution_count": 9,
     "metadata": {},
     "output_type": "execute_result"
    }
   ],
   "source": [
    "type(c)"
   ]
  },
  {
   "cell_type": "code",
   "execution_count": 10,
   "id": "a8a676a2",
   "metadata": {},
   "outputs": [
    {
     "data": {
      "text/plain": [
       "1"
      ]
     },
     "execution_count": 10,
     "metadata": {},
     "output_type": "execute_result"
    }
   ],
   "source": [
    "pow(0,0)"
   ]
  },
  {
   "cell_type": "code",
   "execution_count": 11,
   "id": "704117d8",
   "metadata": {},
   "outputs": [
    {
     "data": {
      "text/plain": [
       "1"
      ]
     },
     "execution_count": 11,
     "metadata": {},
     "output_type": "execute_result"
    }
   ],
   "source": [
    "0**0"
   ]
  },
  {
   "cell_type": "code",
   "execution_count": 14,
   "id": "f2aaba6e",
   "metadata": {},
   "outputs": [
    {
     "ename": "AttributeError",
     "evalue": "'int' object has no attribute 'is_float'",
     "output_type": "error",
     "traceback": [
      "\u001b[1;31m---------------------------------------------------------------------------\u001b[0m",
      "\u001b[1;31mAttributeError\u001b[0m                            Traceback (most recent call last)",
      "\u001b[1;32mC:\\Users\\PD1D7~1.SUR\\AppData\\Local\\Temp/ipykernel_5244/176600135.py\u001b[0m in \u001b[0;36m<module>\u001b[1;34m\u001b[0m\n\u001b[1;32m----> 1\u001b[1;33m \u001b[1;33m(\u001b[0m\u001b[1;36m6\u001b[0m\u001b[1;33m)\u001b[0m\u001b[1;33m.\u001b[0m\u001b[0mis_float\u001b[0m\u001b[1;33m(\u001b[0m\u001b[1;33m)\u001b[0m\u001b[1;33m\u001b[0m\u001b[1;33m\u001b[0m\u001b[0m\n\u001b[0m",
      "\u001b[1;31mAttributeError\u001b[0m: 'int' object has no attribute 'is_float'"
     ]
    }
   ],
   "source": [
    "(6).is_float()"
   ]
  },
  {
   "cell_type": "code",
   "execution_count": 13,
   "id": "9fbc4bd3",
   "metadata": {},
   "outputs": [
    {
     "data": {
      "text/plain": [
       "False"
      ]
     },
     "execution_count": 13,
     "metadata": {},
     "output_type": "execute_result"
    }
   ],
   "source": [
    "(2.8).is_integer()"
   ]
  },
  {
   "cell_type": "code",
   "execution_count": 15,
   "id": "3c9644e9",
   "metadata": {},
   "outputs": [
    {
     "data": {
      "text/plain": [
       "True"
      ]
     },
     "execution_count": 15,
     "metadata": {},
     "output_type": "execute_result"
    }
   ],
   "source": [
    "(7.0).is_integer()"
   ]
  },
  {
   "cell_type": "code",
   "execution_count": 10,
   "id": "38ad3ec8",
   "metadata": {},
   "outputs": [
    {
     "data": {
      "text/plain": [
       "False"
      ]
     },
     "execution_count": 10,
     "metadata": {},
     "output_type": "execute_result"
    }
   ],
   "source": [
    "(8.1).is_integer()"
   ]
  },
  {
   "cell_type": "markdown",
   "id": "c02b181a",
   "metadata": {},
   "source": [
    "# Variable assignments "
   ]
  },
  {
   "cell_type": "code",
   "execution_count": 1,
   "id": "f229caf4",
   "metadata": {},
   "outputs": [],
   "source": [
    "a = 5"
   ]
  },
  {
   "cell_type": "code",
   "execution_count": 2,
   "id": "62a723e0",
   "metadata": {},
   "outputs": [
    {
     "data": {
      "text/plain": [
       "5"
      ]
     },
     "execution_count": 2,
     "metadata": {},
     "output_type": "execute_result"
    }
   ],
   "source": [
    "a"
   ]
  },
  {
   "cell_type": "code",
   "execution_count": 3,
   "id": "3ba0e1dd",
   "metadata": {},
   "outputs": [],
   "source": [
    "a = 10"
   ]
  },
  {
   "cell_type": "code",
   "execution_count": 4,
   "id": "928b8d54",
   "metadata": {},
   "outputs": [
    {
     "data": {
      "text/plain": [
       "10"
      ]
     },
     "execution_count": 4,
     "metadata": {},
     "output_type": "execute_result"
    }
   ],
   "source": [
    "a                                     # python uses dynamic typing so we can reassign variables to different data types"
   ]
  },
  {
   "cell_type": "code",
   "execution_count": 5,
   "id": "ea99a43f",
   "metadata": {},
   "outputs": [
    {
     "data": {
      "text/plain": [
       "20"
      ]
     },
     "execution_count": 5,
     "metadata": {},
     "output_type": "execute_result"
    }
   ],
   "source": [
    "a + a                                 # we can add objects together "
   ]
  },
  {
   "cell_type": "code",
   "execution_count": 10,
   "id": "8f6b37db",
   "metadata": {},
   "outputs": [],
   "source": [
    "a = a + a                             # re run the cell and the valueof a doubles each time"
   ]
  },
  {
   "cell_type": "code",
   "execution_count": 11,
   "id": "d9483820",
   "metadata": {},
   "outputs": [
    {
     "data": {
      "text/plain": [
       "80"
      ]
     },
     "execution_count": 11,
     "metadata": {},
     "output_type": "execute_result"
    }
   ],
   "source": [
    "a"
   ]
  },
  {
   "cell_type": "code",
   "execution_count": 12,
   "id": "c7990965",
   "metadata": {},
   "outputs": [
    {
     "data": {
      "text/plain": [
       "int"
      ]
     },
     "execution_count": 12,
     "metadata": {},
     "output_type": "execute_result"
    }
   ],
   "source": [
    "type(a)"
   ]
  },
  {
   "cell_type": "code",
   "execution_count": 13,
   "id": "be746b4f",
   "metadata": {},
   "outputs": [],
   "source": [
    "a = 30.1"
   ]
  },
  {
   "cell_type": "code",
   "execution_count": 14,
   "id": "dcd07f5f",
   "metadata": {},
   "outputs": [
    {
     "data": {
      "text/plain": [
       "float"
      ]
     },
     "execution_count": 14,
     "metadata": {},
     "output_type": "execute_result"
    }
   ],
   "source": [
    "type(a)"
   ]
  },
  {
   "cell_type": "code",
   "execution_count": 15,
   "id": "f3646792",
   "metadata": {},
   "outputs": [],
   "source": [
    "my_income = 100\n",
    "tax_rate = 0.1\n",
    "my_taxes = my_income * tax_rate"
   ]
  },
  {
   "cell_type": "code",
   "execution_count": 16,
   "id": "6395d513",
   "metadata": {},
   "outputs": [
    {
     "data": {
      "text/plain": [
       "10.0"
      ]
     },
     "execution_count": 16,
     "metadata": {},
     "output_type": "execute_result"
    }
   ],
   "source": [
    "my_taxes"
   ]
  },
  {
   "cell_type": "code",
   "execution_count": 17,
   "id": "234d153e",
   "metadata": {},
   "outputs": [],
   "source": [
    "a = 10"
   ]
  },
  {
   "cell_type": "code",
   "execution_count": 18,
   "id": "88011c6d",
   "metadata": {},
   "outputs": [],
   "source": [
    "a += 2                                                     #shortcut"
   ]
  },
  {
   "cell_type": "code",
   "execution_count": 19,
   "id": "0eebc825",
   "metadata": {},
   "outputs": [
    {
     "data": {
      "text/plain": [
       "12"
      ]
     },
     "execution_count": 19,
     "metadata": {},
     "output_type": "execute_result"
    }
   ],
   "source": [
    "a"
   ]
  },
  {
   "cell_type": "code",
   "execution_count": 20,
   "id": "778c0134",
   "metadata": {},
   "outputs": [],
   "source": [
    "a -=2"
   ]
  },
  {
   "cell_type": "code",
   "execution_count": 21,
   "id": "b7725555",
   "metadata": {},
   "outputs": [
    {
     "data": {
      "text/plain": [
       "10"
      ]
     },
     "execution_count": 21,
     "metadata": {},
     "output_type": "execute_result"
    }
   ],
   "source": [
    "a"
   ]
  },
  {
   "cell_type": "code",
   "execution_count": 22,
   "id": "43fcfedd",
   "metadata": {},
   "outputs": [],
   "source": [
    "a *= 3"
   ]
  },
  {
   "cell_type": "code",
   "execution_count": 23,
   "id": "2ee7119c",
   "metadata": {},
   "outputs": [
    {
     "data": {
      "text/plain": [
       "30"
      ]
     },
     "execution_count": 23,
     "metadata": {},
     "output_type": "execute_result"
    }
   ],
   "source": [
    "a"
   ]
  },
  {
   "cell_type": "code",
   "execution_count": 24,
   "id": "5fbf207e",
   "metadata": {},
   "outputs": [],
   "source": [
    "a /= 3"
   ]
  },
  {
   "cell_type": "code",
   "execution_count": 25,
   "id": "52a2b317",
   "metadata": {},
   "outputs": [
    {
     "data": {
      "text/plain": [
       "10.0"
      ]
     },
     "execution_count": 25,
     "metadata": {},
     "output_type": "execute_result"
    }
   ],
   "source": [
    "a"
   ]
  },
  {
   "cell_type": "code",
   "execution_count": 26,
   "id": "097bd2a3",
   "metadata": {},
   "outputs": [
    {
     "data": {
      "text/plain": [
       "float"
      ]
     },
     "execution_count": 26,
     "metadata": {},
     "output_type": "execute_result"
    }
   ],
   "source": [
    "type(a)"
   ]
  },
  {
   "cell_type": "code",
   "execution_count": 27,
   "id": "07f969c1",
   "metadata": {},
   "outputs": [],
   "source": [
    "a = (1,2)"
   ]
  },
  {
   "cell_type": "code",
   "execution_count": 28,
   "id": "c786a620",
   "metadata": {},
   "outputs": [
    {
     "data": {
      "text/plain": [
       "tuple"
      ]
     },
     "execution_count": 28,
     "metadata": {},
     "output_type": "execute_result"
    }
   ],
   "source": [
    "type(a)"
   ]
  },
  {
   "cell_type": "code",
   "execution_count": 30,
   "id": "9ee466e1",
   "metadata": {},
   "outputs": [],
   "source": [
    "a = False"
   ]
  },
  {
   "cell_type": "code",
   "execution_count": 31,
   "id": "2bd2c7c9",
   "metadata": {},
   "outputs": [
    {
     "data": {
      "text/plain": [
       "bool"
      ]
     },
     "execution_count": 31,
     "metadata": {},
     "output_type": "execute_result"
    }
   ],
   "source": [
    "type(a)"
   ]
  },
  {
   "cell_type": "code",
   "execution_count": 33,
   "id": "b8ef50cd",
   "metadata": {},
   "outputs": [],
   "source": [
    "import math"
   ]
  },
  {
   "cell_type": "code",
   "execution_count": 38,
   "id": "def3b592",
   "metadata": {},
   "outputs": [
    {
     "name": "stdout",
     "output_type": "stream",
     "text": [
      "3.141592653589793\n"
     ]
    }
   ],
   "source": [
    "print(math.pi)"
   ]
  },
  {
   "cell_type": "code",
   "execution_count": 39,
   "id": "bafa3d2e",
   "metadata": {},
   "outputs": [
    {
     "data": {
      "text/plain": [
       "3.141592653589793"
      ]
     },
     "execution_count": 39,
     "metadata": {},
     "output_type": "execute_result"
    }
   ],
   "source": [
    "math.pi"
   ]
  },
  {
   "cell_type": "markdown",
   "id": "294fb12d",
   "metadata": {},
   "source": [
    "x= float(2.8)"
   ]
  },
  {
   "cell_type": "code",
   "execution_count": 40,
   "id": "902c6bd9",
   "metadata": {},
   "outputs": [],
   "source": [
    "x= float(2.8)"
   ]
  },
  {
   "cell_type": "code",
   "execution_count": 41,
   "id": "73dda852",
   "metadata": {},
   "outputs": [
    {
     "data": {
      "text/plain": [
       "2.8"
      ]
     },
     "execution_count": 41,
     "metadata": {},
     "output_type": "execute_result"
    }
   ],
   "source": [
    "x"
   ]
  },
  {
   "cell_type": "code",
   "execution_count": 42,
   "id": "32a251a8",
   "metadata": {},
   "outputs": [],
   "source": [
    "p = \" pushpa \""
   ]
  },
  {
   "cell_type": "code",
   "execution_count": 43,
   "id": "72a3aff2",
   "metadata": {},
   "outputs": [
    {
     "data": {
      "text/plain": [
       "' pushpa '"
      ]
     },
     "execution_count": 43,
     "metadata": {},
     "output_type": "execute_result"
    }
   ],
   "source": [
    "p"
   ]
  },
  {
   "cell_type": "code",
   "execution_count": 44,
   "id": "fca915ae",
   "metadata": {},
   "outputs": [
    {
     "ename": "NameError",
     "evalue": "name 'strip' is not defined",
     "output_type": "error",
     "traceback": [
      "\u001b[1;31m---------------------------------------------------------------------------\u001b[0m",
      "\u001b[1;31mNameError\u001b[0m                                 Traceback (most recent call last)",
      "\u001b[1;32mC:\\Users\\PD1D7~1.SUR\\AppData\\Local\\Temp/ipykernel_14396/2942818502.py\u001b[0m in \u001b[0;36m<module>\u001b[1;34m\u001b[0m\n\u001b[1;32m----> 1\u001b[1;33m \u001b[0mstrip\u001b[0m\u001b[1;33m(\u001b[0m\u001b[0mpushpa\u001b[0m\u001b[1;33m)\u001b[0m\u001b[1;33m\u001b[0m\u001b[1;33m\u001b[0m\u001b[0m\n\u001b[0m",
      "\u001b[1;31mNameError\u001b[0m: name 'strip' is not defined"
     ]
    }
   ],
   "source": [
    "strip(pushpa)"
   ]
  },
  {
   "cell_type": "code",
   "execution_count": 45,
   "id": "9de617ce",
   "metadata": {},
   "outputs": [
    {
     "ename": "NameError",
     "evalue": "name 'ptrim' is not defined",
     "output_type": "error",
     "traceback": [
      "\u001b[1;31m---------------------------------------------------------------------------\u001b[0m",
      "\u001b[1;31mNameError\u001b[0m                                 Traceback (most recent call last)",
      "\u001b[1;32mC:\\Users\\PD1D7~1.SUR\\AppData\\Local\\Temp/ipykernel_14396/2662512191.py\u001b[0m in \u001b[0;36m<module>\u001b[1;34m\u001b[0m\n\u001b[1;32m----> 1\u001b[1;33m \u001b[0mptrim\u001b[0m\u001b[1;33m(\u001b[0m\u001b[0mpushpa\u001b[0m\u001b[1;33m)\u001b[0m\u001b[1;33m\u001b[0m\u001b[1;33m\u001b[0m\u001b[0m\n\u001b[0m",
      "\u001b[1;31mNameError\u001b[0m: name 'ptrim' is not defined"
     ]
    }
   ],
   "source": [
    "ptrim(pushpa)"
   ]
  },
  {
   "cell_type": "code",
   "execution_count": 47,
   "id": "e1b8fd4e",
   "metadata": {},
   "outputs": [
    {
     "ename": "NameError",
     "evalue": "name 'trim' is not defined",
     "output_type": "error",
     "traceback": [
      "\u001b[1;31m---------------------------------------------------------------------------\u001b[0m",
      "\u001b[1;31mNameError\u001b[0m                                 Traceback (most recent call last)",
      "\u001b[1;32mC:\\Users\\PD1D7~1.SUR\\AppData\\Local\\Temp/ipykernel_14396/3837133033.py\u001b[0m in \u001b[0;36m<module>\u001b[1;34m\u001b[0m\n\u001b[1;32m----> 1\u001b[1;33m \u001b[0mtrim\u001b[0m\u001b[1;33m(\u001b[0m\u001b[1;34m\"pushpa\"\u001b[0m\u001b[1;33m)\u001b[0m\u001b[1;33m\u001b[0m\u001b[1;33m\u001b[0m\u001b[0m\n\u001b[0m",
      "\u001b[1;31mNameError\u001b[0m: name 'trim' is not defined"
     ]
    }
   ],
   "source": [
    "trim(\"pushpa\")"
   ]
  },
  {
   "cell_type": "raw",
   "id": "606ebe97",
   "metadata": {},
   "source": [
    "repl"
   ]
  },
  {
   "cell_type": "code",
   "execution_count": 48,
   "id": "01ebb5c4",
   "metadata": {},
   "outputs": [],
   "source": [
    "b = (\"p\",\"a\")"
   ]
  },
  {
   "cell_type": "code",
   "execution_count": 49,
   "id": "8c5399fc",
   "metadata": {},
   "outputs": [
    {
     "data": {
      "text/plain": [
       "tuple"
      ]
     },
     "execution_count": 49,
     "metadata": {},
     "output_type": "execute_result"
    }
   ],
   "source": [
    "type(b)"
   ]
  },
  {
   "cell_type": "code",
   "execution_count": 50,
   "id": "04a2e0d1",
   "metadata": {},
   "outputs": [],
   "source": [
    "c =[\"a\",\"b\"]"
   ]
  },
  {
   "cell_type": "code",
   "execution_count": 51,
   "id": "04947ce8",
   "metadata": {},
   "outputs": [
    {
     "data": {
      "text/plain": [
       "list"
      ]
     },
     "execution_count": 51,
     "metadata": {},
     "output_type": "execute_result"
    }
   ],
   "source": [
    "type(c)"
   ]
  },
  {
   "cell_type": "code",
   "execution_count": 1,
   "id": "32f04542",
   "metadata": {},
   "outputs": [
    {
     "name": "stdout",
     "output_type": "stream",
     "text": [
      "2\n",
      "3\n",
      "0\n",
      "0.6666666666666666\n"
     ]
    }
   ],
   "source": [
    "a= int(input())\n",
    "b = int(input())\n",
    "print(\"{}\\n{}\".format(a//b , a/b))"
   ]
  },
  {
   "cell_type": "code",
   "execution_count": 3,
   "id": "c51fdaa1",
   "metadata": {},
   "outputs": [
    {
     "data": {
      "text/plain": [
       "6"
      ]
     },
     "execution_count": 3,
     "metadata": {},
     "output_type": "execute_result"
    }
   ],
   "source": [
    "len('Hello ')"
   ]
  },
  {
   "cell_type": "code",
   "execution_count": null,
   "id": "90d50f43",
   "metadata": {},
   "outputs": [],
   "source": []
  }
 ],
 "metadata": {
  "kernelspec": {
   "display_name": "Python 3 (ipykernel)",
   "language": "python",
   "name": "python3"
  },
  "language_info": {
   "codemirror_mode": {
    "name": "ipython",
    "version": 3
   },
   "file_extension": ".py",
   "mimetype": "text/x-python",
   "name": "python",
   "nbconvert_exporter": "python",
   "pygments_lexer": "ipython3",
   "version": "3.9.7"
  }
 },
 "nbformat": 4,
 "nbformat_minor": 5
}
